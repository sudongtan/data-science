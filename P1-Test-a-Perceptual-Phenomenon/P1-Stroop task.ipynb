{
 "cells": [
  {
   "cell_type": "markdown",
   "metadata": {},
   "source": [
    "# Project 1: Testing a Perceptual Phenomenon\n",
    "\n",
    "Xiaodong TAN\n",
    "\n",
    "# Background Information\n",
    "\n",
    "In a Stroop task, participants are presented with a list of words, with each word displayed in a color of ink. The participant’s task is to say out loud the color of the ink in which the word is printed. The task has two conditions: a congruent words condition, and an incongruent words condition. In the congruent words condition, the words being displayed are color words whose names match the colors in which they are printed: for example RED, BLUE. In the incongruent words condition, the words displayed are color words whose names do not match the colors in which they are printed: for example PURPLE, ORANGE. In each case, we measure the time it takes to name the ink colors in equally-sized lists. Each participant will go through and record a time from each condition."
   ]
  },
  {
   "cell_type": "code",
   "execution_count": 18,
   "metadata": {
    "collapsed": false,
    "scrolled": true
   },
   "outputs": [
    {
     "data": {
      "text/html": [
       "<div>\n",
       "<table border=\"1\" class=\"dataframe\">\n",
       "  <thead>\n",
       "    <tr style=\"text-align: right;\">\n",
       "      <th></th>\n",
       "      <th>Congruent</th>\n",
       "      <th>Incongruent</th>\n",
       "    </tr>\n",
       "  </thead>\n",
       "  <tbody>\n",
       "    <tr>\n",
       "      <th>0</th>\n",
       "      <td>12.079</td>\n",
       "      <td>19.278</td>\n",
       "    </tr>\n",
       "    <tr>\n",
       "      <th>1</th>\n",
       "      <td>16.791</td>\n",
       "      <td>18.741</td>\n",
       "    </tr>\n",
       "    <tr>\n",
       "      <th>2</th>\n",
       "      <td>9.564</td>\n",
       "      <td>21.214</td>\n",
       "    </tr>\n",
       "    <tr>\n",
       "      <th>3</th>\n",
       "      <td>8.630</td>\n",
       "      <td>15.687</td>\n",
       "    </tr>\n",
       "    <tr>\n",
       "      <th>4</th>\n",
       "      <td>14.669</td>\n",
       "      <td>22.803</td>\n",
       "    </tr>\n",
       "    <tr>\n",
       "      <th>5</th>\n",
       "      <td>12.238</td>\n",
       "      <td>20.878</td>\n",
       "    </tr>\n",
       "    <tr>\n",
       "      <th>6</th>\n",
       "      <td>14.692</td>\n",
       "      <td>24.572</td>\n",
       "    </tr>\n",
       "    <tr>\n",
       "      <th>7</th>\n",
       "      <td>8.987</td>\n",
       "      <td>17.394</td>\n",
       "    </tr>\n",
       "    <tr>\n",
       "      <th>8</th>\n",
       "      <td>9.401</td>\n",
       "      <td>20.762</td>\n",
       "    </tr>\n",
       "    <tr>\n",
       "      <th>9</th>\n",
       "      <td>14.480</td>\n",
       "      <td>26.282</td>\n",
       "    </tr>\n",
       "    <tr>\n",
       "      <th>10</th>\n",
       "      <td>22.328</td>\n",
       "      <td>24.524</td>\n",
       "    </tr>\n",
       "    <tr>\n",
       "      <th>11</th>\n",
       "      <td>15.298</td>\n",
       "      <td>18.644</td>\n",
       "    </tr>\n",
       "    <tr>\n",
       "      <th>12</th>\n",
       "      <td>15.073</td>\n",
       "      <td>17.510</td>\n",
       "    </tr>\n",
       "    <tr>\n",
       "      <th>13</th>\n",
       "      <td>16.929</td>\n",
       "      <td>20.330</td>\n",
       "    </tr>\n",
       "    <tr>\n",
       "      <th>14</th>\n",
       "      <td>18.200</td>\n",
       "      <td>35.255</td>\n",
       "    </tr>\n",
       "    <tr>\n",
       "      <th>15</th>\n",
       "      <td>12.130</td>\n",
       "      <td>22.158</td>\n",
       "    </tr>\n",
       "    <tr>\n",
       "      <th>16</th>\n",
       "      <td>18.495</td>\n",
       "      <td>25.139</td>\n",
       "    </tr>\n",
       "    <tr>\n",
       "      <th>17</th>\n",
       "      <td>10.639</td>\n",
       "      <td>20.429</td>\n",
       "    </tr>\n",
       "    <tr>\n",
       "      <th>18</th>\n",
       "      <td>11.344</td>\n",
       "      <td>17.425</td>\n",
       "    </tr>\n",
       "    <tr>\n",
       "      <th>19</th>\n",
       "      <td>12.369</td>\n",
       "      <td>34.288</td>\n",
       "    </tr>\n",
       "    <tr>\n",
       "      <th>20</th>\n",
       "      <td>12.944</td>\n",
       "      <td>23.894</td>\n",
       "    </tr>\n",
       "    <tr>\n",
       "      <th>21</th>\n",
       "      <td>14.233</td>\n",
       "      <td>17.960</td>\n",
       "    </tr>\n",
       "    <tr>\n",
       "      <th>22</th>\n",
       "      <td>19.710</td>\n",
       "      <td>22.058</td>\n",
       "    </tr>\n",
       "    <tr>\n",
       "      <th>23</th>\n",
       "      <td>16.004</td>\n",
       "      <td>21.157</td>\n",
       "    </tr>\n",
       "  </tbody>\n",
       "</table>\n",
       "</div>"
      ],
      "text/plain": [
       "    Congruent  Incongruent\n",
       "0      12.079       19.278\n",
       "1      16.791       18.741\n",
       "2       9.564       21.214\n",
       "3       8.630       15.687\n",
       "4      14.669       22.803\n",
       "5      12.238       20.878\n",
       "6      14.692       24.572\n",
       "7       8.987       17.394\n",
       "8       9.401       20.762\n",
       "9      14.480       26.282\n",
       "10     22.328       24.524\n",
       "11     15.298       18.644\n",
       "12     15.073       17.510\n",
       "13     16.929       20.330\n",
       "14     18.200       35.255\n",
       "15     12.130       22.158\n",
       "16     18.495       25.139\n",
       "17     10.639       20.429\n",
       "18     11.344       17.425\n",
       "19     12.369       34.288\n",
       "20     12.944       23.894\n",
       "21     14.233       17.960\n",
       "22     19.710       22.058\n",
       "23     16.004       21.157"
      ]
     },
     "execution_count": 18,
     "metadata": {},
     "output_type": "execute_result"
    }
   ],
   "source": [
    "#import data\n",
    "\n",
    "import numpy as np\n",
    "import pandas as pd\n",
    "\n",
    "sample = pd.read_csv(r'~/Documents/NanoDegree-DataAnalyst/P1/stroopdata.csv')\n",
    "sample \n"
   ]
  },
  {
   "cell_type": "markdown",
   "metadata": {},
   "source": [
    "# 1. What is our independent variable? What is our dependent variable?\n",
    "\n",
    "Independent variable: the words that are displayed to the participants, in either congruent condition or incongruent condition\n",
    "\n",
    "Dependant varaible: the time it takes the participants to name the ink colors, .i.e., the participants' response time"
   ]
  },
  {
   "cell_type": "markdown",
   "metadata": {},
   "source": [
    "# 2. What is an appropriate set of hypotheses for this task? What kind of statistical test do you expect to perform? Justify your choices.\n",
    "\n",
    "Null hypothesis (H0): There is no significant difference between the response time needed to review congruent words and incongrent words.\n",
    "\n",
    "H0: μ1 -  μ2 = 0\n",
    "\n",
    "Alternative hypothesis (H1): There is significant difference between the response time needed to review congruent words and incongrent words.\n",
    "\n",
    "H1: μ1 -  μ2 ≠ 0 \n",
    "\n",
    "μ1 = the mean of the response time needed to review congruent words\n",
    "\n",
    "μ2 = the mean of the response time needed to review incongruent words\n",
    "\n",
    "For the project, as the following features were noticed, two-tailed dependent t-test /paired t-test or paired-samples t-test should be used.\n",
    "\n",
    "1) The standard deviation of the population is not known. As a result, Z-test can not be used.\n",
    "2) There are only two groups to compare. As a result, t-test can be used.\n",
    "3) The same participants were tested for both congruent words and incongruent words. As a result, this is a  \"within-subjects\" or \"repeated_measures\" or \"dependant sample\" test.\n",
    "4) The alternative hypotheis does not expect which mean is higher; it only expects the two means are different. As a result, two-tailed test should be used."
   ]
  },
  {
   "cell_type": "markdown",
   "metadata": {},
   "source": [
    " # 3. Report some descriptive statistics regarding this dataset. Include at least one measure of central tendency and at least one measure of variability.\n",
    " \n",
    " Mean and median were used to measure central tendency. \n",
    " \n",
    " Standard deviation was used to measure variability."
   ]
  },
  {
   "cell_type": "code",
   "execution_count": 35,
   "metadata": {
    "collapsed": false
   },
   "outputs": [
    {
     "name": "stdout",
     "output_type": "stream",
     "text": [
      "The mean of the response time of reviewing congruent words is  14.0511\n",
      "The median of the response time of reviewing congruent words is  14.3565\n",
      "The mean of the response time of reviewing congruent words is  22.0159\n",
      "The median of the response time of reviewing congruent words is  21.0175\n",
      "\n",
      "The standard deviation of the response time of reviewing congruent words is  3.5594\n",
      "The standard deviation of the response time of reviewing incongruent words is  4.7971\n"
     ]
    }
   ],
   "source": [
    "congruent = sample ['Congruent'] \n",
    "incongruent = sample['Incongruent']\n",
    "\n",
    "#Central tendency\n",
    "congruent_mean = congruent.mean()\n",
    "congruent_median = congruent.median()\n",
    "incongruent_mean = incongruent.mean()\n",
    "incongruent_median = incongruent.median()\n",
    "\n",
    "#Variability\n",
    "congruent_std = congruent.std()\n",
    "incongruent_std = incongruent.std()\n",
    "\n",
    "print \"The mean of the response time of reviewing congruent words is \", round(congruent_mean, 4)\n",
    "print \"The median of the response time of reviewing congruent words is \", round(congruent_median, 4)\n",
    "print \"The mean of the response time of reviewing congruent words is \", round(incongruent_mean, 4)\n",
    "print \"The median of the response time of reviewing congruent words is \", round(incongruent_median, 4)\n",
    "print \"\"\n",
    "print \"The standard deviation of the response time of reviewing congruent words is \", round(congruent_std, 4)\n",
    "print \"The standard deviation of the response time of reviewing incongruent words is \", round(incongruent_std, 4)\n"
   ]
  },
  {
   "cell_type": "markdown",
   "metadata": {},
   "source": [
    "# 4. Provide one or two visualizations that show the distribution of the sample data. Write one or two sentences noting what you observe about the plot or plots.\n",
    "\n",
    "Boxplot is used and the following features were noticed:\n",
    "\n",
    "1) The mean response time of reviewing incongruent words is higher than that of reviewing congruent words.\n",
    "\n",
    "2) There are \"outliers\" for the incongruent words, which means there are respondentswho used much longer time than average to responses when reviewing incongruent words.\n"
   ]
  },
  {
   "cell_type": "code",
   "execution_count": 37,
   "metadata": {
    "collapsed": false
   },
   "outputs": [
    {
     "data": {
      "text/plain": [
       "<matplotlib.axes._subplots.AxesSubplot at 0x7ff7524fc750>"
      ]
     },
     "execution_count": 37,
     "metadata": {},
     "output_type": "execute_result"
    },
    {
     "data": {
      "image/png": "[encoded data removed]",
      "text/plain": [
       "<matplotlib.figure.Figure at 0x7ff752629850>"
      ]
     },
     "metadata": {},
     "output_type": "display_data"
    }
   ],
   "source": [
    "sample_unstack = sample.unstack().reset_index()\n",
    "sample_unstack.columns = ['Word_type', 'Index', 'Response_time']\n",
    "\n",
    "import seaborn as sns\n",
    "sns.boxplot(x = \"Word_type\", y = \"Response_time\", data = sample_unstack)"
   ]
  },
  {
   "cell_type": "markdown",
   "metadata": {},
   "source": [
    "# 5. Now, perform the statistical test and report your results. What is your confidence level and your critical statistic value? Do you reject the null hypothesis or fail to reject it? Come to a conclusion in terms of the experiment task. Did the results match up with your expectations?\n",
    "\n",
    "At the confiedntial level α= 0.05, t-critical = 1.714/-1.714.\n",
    "\n",
    "As p = 4.10300058571e-08 < 0.05 , the null hypotheis is rejected. That is, there is significant difference between the mean of the response time of reviewing congruent words and incongruent words. \n",
    "\n",
    "It was also noticed the t-statistic for this test is -8.02, which is much less than the t-critical value -1.714.\n",
    "\n",
    "The result is what I expected"
   ]
  },
  {
   "cell_type": "code",
   "execution_count": 38,
   "metadata": {
    "collapsed": false
   },
   "outputs": [
    {
     "name": "stdout",
     "output_type": "stream",
     "text": [
      "t statistics =  -8.02\n",
      "p-value =  4.10300058571e-08\n"
     ]
    }
   ],
   "source": [
    "import scipy.stats as stats\n",
    "\n",
    "t_test =  stats.ttest_rel(congruent, incongruent)\n",
    "\n",
    "print \"t statistics = \", round(t_test[0],2)\n",
    "print \"p-value = \", t_test[1]"
   ]
  },
  {
   "cell_type": "markdown",
   "metadata": {},
   "source": [
    "Reference: \n",
    "http://www.statisticshowto.com/when-to-use-a-t-score-vs-z-score\n",
    "http://www.statisticssolutions.com/manova-analysis-paired-sample-t-test/\n",
    "http://pandas.pydata.org/pandas-docs/stable/generated/pandas.DataFrame.unstack.html\n",
    "http://seaborn.pydata.org/generated/seaborn.boxplot.html\n",
    "https://docs.scipy.org/doc/scipy/reference/generated/scipy.stats.ttest_rel.html\n",
    "http://stattrek.com/online-calculator/t-distribution.aspx"
   ]
  }
 ],
 "metadata": {
  "kernelspec": {
   "display_name": "Python [Root]",
   "language": "python",
   "name": "Python [Root]"
  },
  "language_info": {
   "codemirror_mode": {
    "name": "ipython",
    "version": 2
   },
   "file_extension": ".py",
   "mimetype": "text/x-python",
   "name": "python",
   "nbconvert_exporter": "python",
   "pygments_lexer": "ipython2",
   "version": "2.7.12"
  }
 },
 "nbformat": 4,
 "nbformat_minor": 0
}
