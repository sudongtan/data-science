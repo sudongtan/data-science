{
 "cells": [
  {
   "cell_type": "markdown",
   "metadata": {},
   "source": [
    "# Map Area\n",
    "\n",
    "I chose Honolulu as it has a beautiful Chinese name.\n",
    "\n",
    "https://mapzen.com/data/metro-extracts/metro/honolulu_hawaii/"
   ]
  },
  {
   "cell_type": "code",
   "execution_count": 1,
   "metadata": {
    "collapsed": true
   },
   "outputs": [],
   "source": [
    "import xml.etree.ElementTree as ET\n",
    "import pprint\n",
    "import re\n",
    "import codecs\n",
    "import json\n",
    "\n",
    "import os\n",
    "\n",
    "hawaii = \"honolulu_hawaii.osm\"\n"
   ]
  },
  {
   "cell_type": "markdown",
   "metadata": {},
   "source": [
    "# 1. Data Audit and Problems Encountered"
   ]
  },
  {
   "cell_type": "markdown",
   "metadata": {},
   "source": [
    "## 1.1 Street Name"
   ]
  },
  {
   "cell_type": "markdown",
   "metadata": {},
   "source": [
    "The street names have the following problems:\n",
    "\n",
    "- Some of them used abbreviations.\n",
    "- Some of them used lower cases.\n",
    "- Some names include things other than street names, such as \"Pualei Cir, Apt 106\" and 'Kaelepulu Dr, Kailua,'\n",
    "- Two records 'South King' and 'King' are likely to miss a \"Street\" in the end.\n",
    "- The street types of 'Pali Momi' and 'Ala Ike' are unknown.\n",
    "\n",
    "The problematic street names are shown as follows.\n"
   ]
  },
  {
   "cell_type": "code",
   "execution_count": 2,
   "metadata": {
    "collapsed": false
   },
   "outputs": [],
   "source": [
    "from collections import defaultdict\n",
    "\n",
    "street_type_re = re.compile(r'\\b\\S+\\.?$', re.IGNORECASE)\n",
    "street_types = defaultdict(int)\n",
    "\n",
    "expected = [\"Avenue\", \"Boulevard\", \"Commons\", \"Court\",\"Drive\", \"Lane\", \\\n",
    "            \"Parkway\",\"Place\",\"Road\", \"Square\", \"Street\", \\\n",
    "            \"Trail\", \"Highway\", \"Way\", \"Walk\", \"Terrace\", \\\n",
    "           \"Center\", \"Mall\", \"Circle\", \"Loop\"]\n",
    "\n",
    "def audit_street_type(street_types, street_name):\n",
    "    \"\"\"check if a street name ended with any of the expected types stated above\"\"\"\n",
    "    m = street_type_re.search(street_name)\n",
    "    if m:\n",
    "        street_type = m.group()\n",
    "        if street_type not in expected:\n",
    "            street_types[street_type].add(street_name)\n",
    "\n",
    "def is_street_name(elem):\n",
    "    \"\"\"check if an element is a street name\"\"\"\n",
    "    return (elem.attrib['k'] == \"addr:street\")\n",
    "\n",
    "def audit1(osmfile):\n",
    "    \"\"\"conduct the audit on the street names\"\"\"\n",
    "    osm_file = open(osmfile, \"r\")\n",
    "    street_types = defaultdict(set)\n",
    "    for event, elem in ET.iterparse(osm_file, events=(\"start\",)):\n",
    "        if elem.tag == \"node\" or elem.tag == \"way\":\n",
    "            for tag in elem.iter(\"tag\"):\n",
    "                if is_street_name(tag):\n",
    "                    audit_street_type(street_types, tag.attrib['v'])\n",
    "\n",
    "    return street_types\n"
   ]
  },
  {
   "cell_type": "code",
   "execution_count": 3,
   "metadata": {
    "collapsed": false
   },
   "outputs": [
    {
     "data": {
      "text/plain": [
       "defaultdict(set,\n",
       "            {'106': {'Pualei Cir, Apt 106'},\n",
       "             'Ave': {'Kalakaua Ave'},\n",
       "             'Blvd': {'Ala Moana Blvd'},\n",
       "             'Dr': {'Kipapa Dr'},\n",
       "             'Hwy': {'Kamehameha Hwy'},\n",
       "             'Ike': {'Ala Ike'},\n",
       "             'Kailua,': {'Kaelepulu Dr, Kailua,'},\n",
       "             'King': {'South King'},\n",
       "             'Momi': {'Pali Momi'},\n",
       "             'Pkwy': {'Meheula Pkwy'},\n",
       "             'St': {'Ala Pumalu St', 'Lusitania St'},\n",
       "             'St.': {'Lusitania St.'},\n",
       "             'highway': {'kanehameha highway'},\n",
       "             'king': {'king'}})"
      ]
     },
     "execution_count": 3,
     "metadata": {},
     "output_type": "execute_result"
    }
   ],
   "source": [
    "audit1(hawaii)"
   ]
  },
  {
   "cell_type": "markdown",
   "metadata": {},
   "source": [
    "The street names are updated as follows."
   ]
  },
  {
   "cell_type": "code",
   "execution_count": 4,
   "metadata": {
    "collapsed": false
   },
   "outputs": [],
   "source": [
    "MAP = {'Ave'  : 'Avenue',\n",
    "           'Blvd' : 'Boulevard',\n",
    "           'Cir'  : \"Circle\",\n",
    "           'Dr'   : 'Drive',\n",
    "           'Ln'   : 'Lane',\n",
    "           'Pkwy' : 'Parkway',\n",
    "           'St'   : 'Street',\n",
    "           'St.'   : 'Street',     \n",
    "           'Hwy'  : 'Highway',\n",
    "           'Sq'   : \"Square\",\n",
    "           'highway': 'Highway'}\n",
    "\n",
    "def update_street_name(street_name, map = MAP):\n",
    "    if street_name == \"Pualei Cir, Apt 106\":\n",
    "        street_name = \"Apt 106 Pualei Circle\"\n",
    "    \n",
    "    elif street_name == \"Kaelepulu Dr, Kailua,\":\n",
    "        street_name = \"Kaelepulu Drive\"\n",
    "    \n",
    "    elif street_name == \"king\":\n",
    "        street_name = \"King Street\"\n",
    "    \n",
    "    elif street_name == \"South King\":\n",
    "        street_name = \"South King Street\"\n",
    "        \n",
    "    else:\n",
    "        street_name = street_name.split(' ')\n",
    "        type = street_name[-1]\n",
    "        if type in map:\n",
    "            street_name[-1] = map[type]\n",
    "        street_name = ' '.join(street_name)\n",
    "        street_name = street_name.title()\n",
    "    \n",
    "    return street_name\n",
    "\n",
    "def better_name_check(OSMFILE):\n",
    "    street_types = audit1(OSMFILE)\n",
    "    for st_type, ways in street_types.iteritems():\n",
    "        for name in ways: \n",
    "            better_name = update_street_name(name, map = MAP)\n",
    "            print name, \"=>\", better_name"
   ]
  },
  {
   "cell_type": "code",
   "execution_count": 5,
   "metadata": {
    "collapsed": false
   },
   "outputs": [
    {
     "name": "stdout",
     "output_type": "stream",
     "text": [
      "king => King Street\n",
      "South King => South King Street\n",
      "Pualei Cir, Apt 106 => Apt 106 Pualei Circle\n",
      "Lusitania St. => Lusitania Street\n",
      "Meheula Pkwy => Meheula Parkway\n",
      "Kaelepulu Dr, Kailua, => Kaelepulu Drive\n",
      "Pali Momi => Pali Momi\n",
      "Ala Ike => Ala Ike\n",
      "Kamehameha Hwy => Kamehameha Highway\n",
      "Ala Moana Blvd => Ala Moana Boulevard\n",
      "Kalakaua Ave => Kalakaua Avenue\n",
      "Ala Pumalu St => Ala Pumalu Street\n",
      "Lusitania St => Lusitania Street\n",
      "Kipapa Dr => Kipapa Drive\n",
      "kanehameha highway => Kanehameha Highway\n"
     ]
    }
   ],
   "source": [
    "better_name_check(hawaii)"
   ]
  },
  {
   "cell_type": "markdown",
   "metadata": {},
   "source": [
    "## 1.2 Audit postal codes"
   ]
  },
  {
   "cell_type": "markdown",
   "metadata": {},
   "source": [
    "The postal codes in Hawaii are expected to be five-digit numbers starting with \"967\" or \"968\". \n",
    "\n",
    "Auditing the postal codes show that some of the postal codes used zip5 + 4 digits format, which is also acceptable.\n",
    "\n",
    "The only exepction is \"HI 96819\", in which \"HI \" should be deleted.\n",
    "\n",
    "The postal codes that include more than five-digit number starting with \"967\" and \"968\" are as follows."
   ]
  },
  {
   "cell_type": "code",
   "execution_count": 11,
   "metadata": {
    "collapsed": false
   },
   "outputs": [],
   "source": [
    "def audit_postal_code(invalid_postal_codes, postal_code):\n",
    "    \"\"\"check if a postal code follows the desired format\"\"\"\n",
    "    try:\n",
    "        if len(postal_code) != 5 and (postal_code[:3] != '967' or '968'):\n",
    "            raise ValueError\n",
    "    except ValueError:\n",
    "        invalid_postal_codes[postal_code] += 1\n",
    "\n",
    "def is_postal_code(elem):\n",
    "    \"\"\"check if an element is a post code\"\"\"\n",
    "    return elem.attrib['k'] == \"addr:postcode\"\n",
    "\n",
    "def audit2(osmfile):\n",
    "    \"\"\"conduct the audit on the postal codes\"\"\"\n",
    "    osm_file = open(osmfile, \"r\")\n",
    "    invalid_postal_codes = defaultdict(int)\n",
    "    for event, elem in ET.iterparse(osm_file, events=(\"start\",)):\n",
    "        if elem.tag == \"node\" or elem.tag == \"way\":\n",
    "            for tag in elem.iter(\"tag\"):\n",
    "                if is_postal_code(tag):\n",
    "                    audit_postal_code(invalid_postal_codes, tag.attrib['v'])\n",
    "    return invalid_postal_codes"
   ]
  },
  {
   "cell_type": "code",
   "execution_count": 12,
   "metadata": {
    "collapsed": false
   },
   "outputs": [
    {
     "data": {
      "text/plain": [
       "defaultdict(int,\n",
       "            {'96712-9998': 1,\n",
       "             '96734-9998': 1,\n",
       "             '96815-2518': 1,\n",
       "             '96815-2830': 1,\n",
       "             '96815-2834': 2,\n",
       "             '96817-1713': 1,\n",
       "             '96825-9998': 1,\n",
       "             '96826-4427': 1,\n",
       "             'HI 96819': 1})"
      ]
     },
     "execution_count": 12,
     "metadata": {},
     "output_type": "execute_result"
    }
   ],
   "source": [
    "audit2(hawaii)"
   ]
  },
  {
   "cell_type": "markdown",
   "metadata": {},
   "source": [
    "## 1.3 Adudit phone numbers"
   ]
  },
  {
   "cell_type": "markdown",
   "metadata": {},
   "source": [
    "Audit shows that the formats of the phone numbers are very inconsistent. \n",
    "Some use \"-\", \".\" or \"()\" to seperate digits while others only use space. \n",
    "Some have the country code while others don't.\n",
    "Some records have multiple phone numbers."
   ]
  },
  {
   "cell_type": "code",
   "execution_count": 13,
   "metadata": {
    "collapsed": false
   },
   "outputs": [],
   "source": [
    "def audit_phone_number(invalid_phone_numbers, phone_number):\n",
    "    \"\"\" check if the phone number follows the desired format\"\"\"\n",
    "    try:\n",
    "        if phone_number[:6] != '+1 808':\n",
    "            raise ValueError\n",
    "\n",
    "    except ValueError:\n",
    "        invalid_phone_numbers[phone_number] += 1\n",
    "\n",
    "def is_phone_number(elem):\n",
    "    \"\"\" check if an element is a phone number\"\"\"\n",
    "    \n",
    "    return elem.attrib['k'] == \"phone\"\n",
    "\n",
    "def audit3(osmfile):\n",
    "    \"\"\" conduct the audit of the phone numbers\"\"\"\n",
    "    \n",
    "    osm = open(osmfile, \"r\")\n",
    "    invalid_phone_numbers = defaultdict(int)\n",
    "    for event, elem in ET.iterparse(osm, events=(\"start\",)):\n",
    "        if elem.tag == \"node\" or elem.tag == \"way\":\n",
    "            for tag in elem.iter(\"tag\"):\n",
    "                if is_phone_number(tag):\n",
    "                    audit_phone_number(invalid_phone_numbers, tag.attrib['v'])\n",
    "    return invalid_phone_numbers"
   ]
  },
  {
   "cell_type": "code",
   "execution_count": 14,
   "metadata": {
    "collapsed": false
   },
   "outputs": [
    {
     "data": {
      "text/plain": [
       "defaultdict(int,\n",
       "            {'(808) 486-5100': 1,\n",
       "             '(808) 492-1637': 1,\n",
       "             '(808) 536-1330': 2,\n",
       "             '(808) 625-0411': 1,\n",
       "             '(808) 668-7367': 1,\n",
       "             '(808) 734-9000': 1,\n",
       "             '(808) 769-6921': 1,\n",
       "             '(808) 845-9498': 1,\n",
       "             '(808) 924-3303': 1,\n",
       "             '(808) 926-9717': 1,\n",
       "             '(808) 955-6329': 1,\n",
       "             '(808)9242233': 1,\n",
       "             '+1 (808) 733-0277': 1,\n",
       "             '+1 (808) 733-1540': 1,\n",
       "             '+1 (808) 946-0253': 1,\n",
       "             '+1 323 423 6076': 1,\n",
       "             '+1 800 463 3339': 1,\n",
       "             '+1 888-389-3199': 1,\n",
       "             '+1-808-532-8700': 1,\n",
       "             '+1-808-545-3008': 1,\n",
       "             '+1-808-831-4820': 1,\n",
       "             '+1-808-836-7665': 1,\n",
       "             '+1-808-836-9828': 1,\n",
       "             '+1-808-839-6306': 1,\n",
       "             '+1-808-892-1820': 1,\n",
       "             '+1-808-922-4911': 1,\n",
       "             '+1-808-9266162': 1,\n",
       "             '+1-808-954-7000': 1,\n",
       "             '+18088417984': 1,\n",
       "             '+18088619966': 1,\n",
       "             '+18089221544': 1,\n",
       "             '+18089234852': 1,\n",
       "             '+18089268955': 1,\n",
       "             '1 (808) 677-3335': 1,\n",
       "             '1-808-955-7470': 1,\n",
       "             '1.888.236.0799': 1,\n",
       "             '18003677060': 1,\n",
       "             '18084541434': 1,\n",
       "             '18089264167': 1,\n",
       "             '533-7557': 1,\n",
       "             '6373000': 1,\n",
       "             '808-263-4414': 1,\n",
       "             '808-266-3996': 1,\n",
       "             '808-343-5501': 1,\n",
       "             '808-486-2167': 1,\n",
       "             '808-561-1000': 1,\n",
       "             '808-591-2513': 1,\n",
       "             '808-625-0320': 1,\n",
       "             '808-637-6241': 1,\n",
       "             '808-637-7472': 1,\n",
       "             '808-637-7710': 1,\n",
       "             '808-831-6831': 1,\n",
       "             '808-922-8838': 1,\n",
       "             '808-923-7024': 1,\n",
       "             '808-944-8968': 1,\n",
       "             '808-948-6111': 1,\n",
       "             '808.394.8770': 1,\n",
       "             '8088458044': 1,\n",
       "             '8089224646': 1,\n",
       "             '8089231234': 1,\n",
       "             'Honolulu CC Campus Security: (808) 284-1270 (cell), (808) 271-4836 (cell)': 1})"
      ]
     },
     "execution_count": 14,
     "metadata": {},
     "output_type": "execute_result"
    }
   ],
   "source": [
    "audit3(hawaii)"
   ]
  },
  {
   "cell_type": "markdown",
   "metadata": {},
   "source": [
    "Some of the phone numbers are cleaned as follows."
   ]
  },
  {
   "cell_type": "code",
   "execution_count": 8,
   "metadata": {
    "collapsed": false
   },
   "outputs": [],
   "source": [
    "def update_phone_number(phone_number):\n",
    "    \"\"\"\n",
    "    update the phone number to follow the \"+1 123 12345678\" format\n",
    "    \"\"\"\n",
    "    number = phone_number.replace(\"+\",\"\").replace(\"-\", \"\").replace(\".\",\"\").replace(\"(\", \"\").replace(\")\",\"\").replace(\" \", \"\")\n",
    "    if number[0:4] == '1808':\n",
    "        number = \"+1 808 \"+number[4:]\n",
    "    elif number[0:3] == \"808\":\n",
    "        number = \"+1 808 \"+number[3:]\n",
    "    elif number[0] == \"1\":\n",
    "        number = \"+1 \"+number[1:4]+\" \"+number[4:]\n",
    "\n",
    "    return number\n",
    "\n",
    "def better_phone_check(OSMFILE):\n",
    "    \"\"\"display the original phone number and the formatted phone number\"\"\"\n",
    "    numbers = audit3(OSMFILE)\n",
    "    for number in numbers:\n",
    "        better_number = update_phone_number(number)\n",
    "        print number, \"=>\", better_number"
   ]
  },
  {
   "cell_type": "code",
   "execution_count": 9,
   "metadata": {
    "collapsed": false
   },
   "outputs": [
    {
     "name": "stdout",
     "output_type": "stream",
     "text": [
      "(808) 924-3303 => +1 808 9243303\n",
      "8089231234 => +1 808 9231234\n",
      "+1-808-545-3008 => +1 808 5453008\n",
      "(808) 769-6921 => +1 808 7696921\n",
      "+18089234852 => +1 808 9234852\n",
      "(808) 955-6329 => +1 808 9556329\n",
      "(808) 625-0411 => +1 808 6250411\n",
      "808-923-7024 => +1 808 9237024\n",
      "+1-808-922-4911 => +1 808 9224911\n",
      "808-831-6831 => +1 808 8316831\n",
      "+18089221544 => +1 808 9221544\n",
      "+1 (808) 946-0253 => +1 808 9460253\n",
      "(808) 926-9717 => +1 808 9269717\n",
      "+1 800 463 3339 => +1 800 4633339\n",
      "+1-808-836-7665 => +1 808 8367665\n",
      "808-922-8838 => +1 808 9228838\n",
      "+1-808-892-1820 => +1 808 8921820\n",
      "808-637-7472 => +1 808 6377472\n",
      "+1-808-532-8700 => +1 808 5328700\n",
      "808-486-2167 => +1 808 4862167\n",
      "1-808-955-7470 => +1 808 9557470\n",
      "+1-808-831-4820 => +1 808 8314820\n",
      "8088458044 => +1 808 8458044\n",
      "(808) 734-9000 => +1 808 7349000\n",
      "808-591-2513 => +1 808 5912513\n",
      "1 (808) 677-3335 => +1 808 6773335\n",
      "808-637-7710 => +1 808 6377710\n",
      "808-625-0320 => +1 808 6250320\n",
      "18089264167 => +1 808 9264167\n",
      "+1 (808) 733-0277 => +1 808 7330277\n",
      "808-637-6241 => +1 808 6376241\n",
      "+1 (808) 733-1540 => +1 808 7331540\n",
      "+1-808-9266162 => +1 808 9266162\n",
      "Honolulu CC Campus Security: (808) 284-1270 (cell), (808) 271-4836 (cell) => HonoluluCCCampusSecurity:8082841270cell,8082714836cell\n",
      "+1-808-839-6306 => +1 808 8396306\n",
      "+18089268955 => +1 808 9268955\n",
      "808-561-1000 => +1 808 5611000\n",
      "1.888.236.0799 => +1 888 2360799\n",
      "808-343-5501 => +1 808 3435501\n",
      "(808) 492-1637 => +1 808 4921637\n",
      "808-263-4414 => +1 808 2634414\n",
      "+1-808-836-9828 => +1 808 8369828\n",
      "(808)9242233 => +1 808 9242233\n",
      "8089224646 => +1 808 9224646\n",
      "+18088619966 => +1 808 8619966\n",
      "+1 888-389-3199 => +1 888 3893199\n",
      "+18088417984 => +1 808 8417984\n",
      "808.394.8770 => +1 808 3948770\n",
      "808-266-3996 => +1 808 2663996\n",
      "18003677060 => +1 800 3677060\n",
      "533-7557 => 5337557\n",
      "808-948-6111 => +1 808 9486111\n",
      "(808) 668-7367 => +1 808 6687367\n",
      "808-944-8968 => +1 808 9448968\n",
      "+1-808-954-7000 => +1 808 9547000\n",
      "6373000 => 6373000\n",
      "(808) 536-1330 => +1 808 5361330\n",
      "18084541434 => +1 808 4541434\n",
      "(808) 845-9498 => +1 808 8459498\n",
      "(808) 486-5100 => +1 808 4865100\n",
      "+1 323 423 6076 => +1 323 4236076\n"
     ]
    }
   ],
   "source": [
    "better_phone_check(hawaii)"
   ]
  },
  {
   "cell_type": "markdown",
   "metadata": {},
   "source": [
    "# Converting xml to csv and importing csv to database"
   ]
  },
  {
   "cell_type": "code",
   "execution_count": 19,
   "metadata": {
    "collapsed": false
   },
   "outputs": [],
   "source": [
    "#Converting xml to csv\n",
    "import data\n",
    "reload(data)\n",
    "data.process_map(hawaii, validate = True)"
   ]
  },
  {
   "cell_type": "code",
   "execution_count": 3,
   "metadata": {
    "collapsed": false
   },
   "outputs": [],
   "source": [
    "#importing csv to database\n",
    "import csv \n",
    "import sqlite3"
   ]
  },
  {
   "cell_type": "code",
   "execution_count": 21,
   "metadata": {
    "collapsed": false
   },
   "outputs": [
    {
     "name": "stdout",
     "output_type": "stream",
     "text": [
      "--2017-01-31 22:17:31--  https://gist.githubusercontent.com/swwelch/f1144229848b407e0a5d13fcb7fbbd6f/raw/c03182a6aadda4ae149ba59bf9e39e80833454a9/data_wrangling_schema.sql\n",
      "Resolving gist.githubusercontent.com (gist.githubusercontent.com)... 151.101.100.133\n",
      "Connecting to gist.githubusercontent.com (gist.githubusercontent.com)|151.101.100.133|:443... connected.\n",
      "HTTP request sent, awaiting response... 200 OK\n",
      "Length: 832 [text/plain]\n",
      "Saving to: ‘data_wrangling_schema.sql.1’\n",
      "\n",
      "data_wrangling_sche 100%[===================>]     832  --.-KB/s    in 0s      \n",
      "\n",
      "2017-01-31 22:17:31 (214 MB/s) - ‘data_wrangling_schema.sql.1’ saved [832/832]\n",
      "\n"
     ]
    }
   ],
   "source": [
    "!wget https://gist.githubusercontent.com/swwelch/f1144229848b407e0a5d13fcb7fbbd6f/raw/c03182a6aadda4ae149ba59bf9e39e80833454a9/data_wrangling_schema.sql"
   ]
  },
  {
   "cell_type": "code",
   "execution_count": 22,
   "metadata": {
    "collapsed": true
   },
   "outputs": [],
   "source": [
    "with open(\"data_wrangling_schema.sql\") as f:\n",
    "    create_statements = f.readlines()"
   ]
  },
  {
   "cell_type": "code",
   "execution_count": 5,
   "metadata": {
    "collapsed": true
   },
   "outputs": [],
   "source": [
    "con = sqlite3.connect(\"Cleaned SQL/hawaii.db\")\n",
    "cur = con.cursor()"
   ]
  },
  {
   "cell_type": "code",
   "execution_count": null,
   "metadata": {
    "collapsed": false
   },
   "outputs": [],
   "source": [
    "con = sqlite3.connect(\"Cleaned SQL/hawaii.db\")\n",
    "cur = con.cursor()\n",
    "    \n",
    "def create_tables():\n",
    "    \"\"\"create tables in csv\"\"\"\n",
    "   \n",
    "    cur.execute(\"\"\"CREATE TABLE nodes (\n",
    "    id INTEGER PRIMARY KEY NOT NULL,\n",
    "    lat FLOAT,\n",
    "    lon FLOAT,\n",
    "    user TEXT,\n",
    "    uid INTEGER,\n",
    "    version TEXT,\n",
    "    changeset INTEGER,\n",
    "    timestamp TEXT\n",
    ")\"\"\")\n",
    "\n",
    "    cur.execute(\"\"\"CREATE TABLE nodes_tags (\n",
    "            id INTEGER,\n",
    "            key TEXT,\n",
    "            value TEXT,\n",
    "            type TEXT,\n",
    "            FOREIGN KEY (id) REFERENCES nodes(id)\n",
    "        )\"\"\")\n",
    "\n",
    "    cur.execute(\"\"\"CREATE TABLE ways (\n",
    "    id INTEGER PRIMARY KEY NOT NULL,\n",
    "    user TEXT,\n",
    "    uid INTEGER,\n",
    "    version TEXT,\n",
    "    changeset INTEGER,\n",
    "    timestamp TEXT\n",
    ");\"\"\")\n",
    "\n",
    "    cur.execute(\"\"\"CREATE TABLE ways_tags (\n",
    "    id INTEGER NOT NULL,\n",
    "    key TEXT NOT NULL,\n",
    "    value TEXT NOT NULL,\n",
    "    type TEXT,\n",
    "    FOREIGN KEY (id) REFERENCES ways(id)\n",
    ");\"\"\")\n",
    "\n",
    "    cur.execute(\"\"\"CREATE TABLE ways_nodes (\n",
    "    id INTEGER NOT NULL,\n",
    "    node_id INTEGER NOT NULL,\n",
    "    position INTEGER NOT NULL,\n",
    "    FOREIGN KEY (id) REFERENCES ways(id),\n",
    "    FOREIGN KEY (node_id) REFERENCES nodes(id)\n",
    ");\"\"\")\n",
    "\n",
    "create_tables()"
   ]
  },
  {
   "cell_type": "markdown",
   "metadata": {},
   "source": [
    "sqlite>.mode csv\n",
    "\n",
    "sqlite>.import nodes.csv nodes\n",
    "\n",
    "sqlite>.import nodes_tags.csv nodes_tags\n",
    "\n",
    "sqlite>.import ways.csv ways\n",
    "\n",
    "sqlite>.import ways_tags.csv ways_tags\n",
    "\n",
    "sqlite>.import ways_nodes.csv ways_nodes"
   ]
  },
  {
   "cell_type": "markdown",
   "metadata": {},
   "source": [
    "# 2. Data Overview with SQL"
   ]
  },
  {
   "cell_type": "markdown",
   "metadata": {},
   "source": [
    "## Size of the files\n",
    "\n",
    "honolulu_hawaii.osm 54.2MB\n",
    "\n",
    "hawaii.db 29.3MB\n",
    "\n",
    "nodes.csv 21.1MB\n",
    "\n",
    "nodes_tags.csv 508.2kB\n",
    "\n",
    "ways.csv 1.6MB\n",
    "\n",
    "ways_nodes.csv 7.1MB\n",
    "\n",
    "ways_tags.csv 3.7MB"
   ]
  },
  {
   "cell_type": "markdown",
   "metadata": {},
   "source": [
    "## Number of nodes"
   ]
  },
  {
   "cell_type": "code",
   "execution_count": 7,
   "metadata": {
    "collapsed": false
   },
   "outputs": [
    {
     "data": {
      "text/plain": [
       "248609"
      ]
     },
     "execution_count": 7,
     "metadata": {},
     "output_type": "execute_result"
    }
   ],
   "source": [
    "def number_of_nodes():\n",
    "    \"\"\"count the number of nodes\"\"\"\n",
    "    result = cur.execute('SELECT COUNT(*) FROM nodes')\n",
    "    return result.fetchone()[0]\n",
    "\n",
    "number_of_nodes()"
   ]
  },
  {
   "cell_type": "markdown",
   "metadata": {},
   "source": [
    "## Number of ways"
   ]
  },
  {
   "cell_type": "code",
   "execution_count": 8,
   "metadata": {
    "collapsed": false
   },
   "outputs": [
    {
     "data": {
      "text/plain": [
       "26276"
      ]
     },
     "execution_count": 8,
     "metadata": {},
     "output_type": "execute_result"
    }
   ],
   "source": [
    "def number_of_ways():\n",
    "    \"\"\"count the number of ways\"\"\"\n",
    "    result = cur.execute('SELECT COUNT(*) FROM ways')\n",
    "    return result.fetchone()[0]\n",
    "number_of_ways()"
   ]
  },
  {
   "cell_type": "markdown",
   "metadata": {},
   "source": [
    "## Number of unique users"
   ]
  },
  {
   "cell_type": "code",
   "execution_count": 9,
   "metadata": {
    "collapsed": false
   },
   "outputs": [
    {
     "data": {
      "text/plain": [
       "471"
      ]
     },
     "execution_count": 9,
     "metadata": {},
     "output_type": "execute_result"
    }
   ],
   "source": [
    "def number_of_unique_users():\n",
    "    \"\"\"count the number of unique users\"\"\"\n",
    "    result = cur.execute(\"\"\"SELECT COUNT(DISTINCT(e.uid))\n",
    "            FROM (SELECT uid FROM nodes UNION ALL SELECT uid FROM ways) e\"\"\")\n",
    "    return result.fetchone()[0]\n",
    "number_of_unique_users()"
   ]
  },
  {
   "cell_type": "markdown",
   "metadata": {},
   "source": [
    "## Top 10 contributing users"
   ]
  },
  {
   "cell_type": "code",
   "execution_count": 21,
   "metadata": {
    "collapsed": false
   },
   "outputs": [
    {
     "data": {
      "text/plain": [
       "[(u'Tom_Holland', 102060),\n",
       " (u'cbbaze', 14769),\n",
       " (u'ikiya', 12806),\n",
       " (u'kr4z33', 9852),\n",
       " (u'Chris Lawrence', 9214),\n",
       " (u'pdunn', 9067),\n",
       " (u'aaront', 8461),\n",
       " (u'woodpeck_fixbot', 8378),\n",
       " (u'julesreid', 7262),\n",
       " (u'bdiscoe', 5095)]"
      ]
     },
     "execution_count": 21,
     "metadata": {},
     "output_type": "execute_result"
    }
   ],
   "source": [
    "def top_contributing_users():\n",
    "    \"\"\"count the top 10 users based on their number of contributions\"\"\"\n",
    "    users = []\n",
    "    for row in cur.execute(\"\"\"SELECT e.user, COUNT(*)\n",
    "            as num FROM (SELECT user\n",
    "            FROM nodes UNION ALL SELECT user FROM ways) e\n",
    "            GROUP BY e.user \n",
    "            ORDER BY num DESC \n",
    "            LIMIT 10\"\"\"):\n",
    "        #print row[0],\":\", row[1]\n",
    "        users.append(row)\n",
    "    return users\n",
    "top_contributing_users()"
   ]
  },
  {
   "cell_type": "markdown",
   "metadata": {},
   "source": [
    "## Number of users who posted only one post"
   ]
  },
  {
   "cell_type": "code",
   "execution_count": 64,
   "metadata": {
    "collapsed": false
   },
   "outputs": [
    {
     "data": {
      "text/plain": [
       "97"
      ]
     },
     "execution_count": 64,
     "metadata": {},
     "output_type": "execute_result"
    }
   ],
   "source": [
    "def number_of_users_contributing_once():\n",
    "    \"\"\"count the number of users who only contributed once to the map\"\"\"\n",
    "    result = cur.execute(\"\"\"SELECT COUNT(*)\n",
    "            FROM \n",
    "                (SELECT e.user, COUNT(*) as num\n",
    "                 FROM (SELECT user FROM nodes UNION ALL SELECT user FROM ways) e\n",
    "                 GROUP BY e.user\n",
    "                 HAVING num=1) u\"\"\")\n",
    "    return result.fetchone()[0]\n",
    "number_of_users_contributing_once()"
   ]
  },
  {
   "cell_type": "markdown",
   "metadata": {},
   "source": [
    "# 3. Additional Data Exploration"
   ]
  },
  {
   "cell_type": "markdown",
   "metadata": {},
   "source": [
    "## Top 10 amenities"
   ]
  },
  {
   "cell_type": "code",
   "execution_count": 62,
   "metadata": {
    "collapsed": false
   },
   "outputs": [
    {
     "name": "stdout",
     "output_type": "stream",
     "text": [
      "restaurant : 215\n",
      "fast_food : 108\n",
      "parking : 73\n",
      "toilets : 71\n",
      "cafe : 63\n",
      "waste_basket : 36\n",
      "bench : 30\n",
      "fire_station : 30\n",
      "parking_entrance : 25\n",
      "drinking_water : 24\n"
     ]
    }
   ],
   "source": [
    "def top_amenities():\n",
    "    \"\"\"count the top 10 amentities based on their numbers in the map\"\"\"\n",
    "    amentities = []\n",
    "    for row in cur.execute(\"\"\"SELECT value, COUNT(*) as num\n",
    "                         FROM nodes_tags\n",
    "                         WHERE key = 'amenity'\n",
    "                        GROUP BY value\n",
    "                        ORDER BY num DESC\n",
    "                        LIMIT 10\"\"\"):\n",
    "        print row[0],\":\", row[1]\n",
    "        amentities.append(row)\n",
    "    #return amentities\n",
    "\n",
    "top_amenities()"
   ]
  },
  {
   "cell_type": "markdown",
   "metadata": {},
   "source": [
    "## Types and number of tourism places"
   ]
  },
  {
   "cell_type": "code",
   "execution_count": 94,
   "metadata": {
    "collapsed": false
   },
   "outputs": [
    {
     "name": "stdout",
     "output_type": "stream",
     "text": [
      "attraction : 76\n",
      "viewpoint : 26\n",
      "hotel : 18\n",
      "museum : 13\n",
      "artwork : 10\n",
      "picnic_site : 8\n",
      "information : 5\n",
      "guest_house : 3\n",
      "hostel : 3\n",
      "gallery : 2\n",
      "alpine_hut : 1\n",
      "camp_site : 1\n"
     ]
    }
   ],
   "source": [
    "def tourism():\n",
    "    \"\"\"display the type of tourism places in the map and their numbers\"\"\"\n",
    "    tourism = []\n",
    "    for row in cur.execute(\"\"\"SELECT value, COUNT(*) as num\n",
    "                         FROM nodes_tags\n",
    "                         WHERE key = 'tourism'\n",
    "                        GROUP BY value\n",
    "                        ORDER BY num DESC\"\"\"):\n",
    "        print row[0],\":\", row[1]\n",
    "        tourism.append(row)\n",
    "    #return tourism\n",
    "\n",
    "tourism()"
   ]
  },
  {
   "cell_type": "markdown",
   "metadata": {},
   "source": [
    "## If the restaurants allow smoking"
   ]
  },
  {
   "cell_type": "code",
   "execution_count": 90,
   "metadata": {
    "collapsed": false
   },
   "outputs": [
    {
     "name": "stdout",
     "output_type": "stream",
     "text": [
      "no 8\n",
      "isolated 1\n"
     ]
    }
   ],
   "source": [
    "def restaurant_smoking_status():\n",
    "    \"\"\"display if the restaurants\"\"\"\n",
    "    result = []\n",
    "    for status in cur.execute(\"\"\"SELECT nodes_tags.value, COUNT(*) as num\n",
    "                    FROM nodes_tags \n",
    "                    JOIN (SELECT DISTINCT(id) FROM nodes_tags WHERE value='restaurant') i\n",
    "                    ON nodes_tags.id=i.id\n",
    "                    WHERE nodes_tags.key='smoking' \n",
    "                    GROUP BY nodes_tags.value\n",
    "                    ORDER BY num DESC\"\"\"):\n",
    "        print status[0], status[1]\n",
    "        result.append(status)\n",
    "    \n",
    "    #return result\n",
    "\n",
    "restaurant_smoking_status()"
   ]
  },
  {
   "cell_type": "markdown",
   "metadata": {},
   "source": [
    "## Sources of information"
   ]
  },
  {
   "cell_type": "code",
   "execution_count": 19,
   "metadata": {
    "collapsed": false
   },
   "outputs": [
    {
     "name": "stdout",
     "output_type": "stream",
     "text": [
      "Bing : 392\n",
      "USGS Geonames : 116\n",
      "survey : 42\n",
      "kr4z33 Survey : 25\n",
      "Yahoo : 13\n",
      "OpenStreetBugs : 2\n",
      "osmsync:dero : 2\n",
      "ourairports.com : 2\n",
      "wikipedia : 2\n",
      "(URL) : 1\n",
      "Hotel Guest : 1\n",
      "Landsat : 1\n",
      "NOAA U.S. Vector Shoreline : 1\n",
      "Owner : 1\n",
      "coal : 1\n",
      "http://jhchawaii.net/ : 1\n",
      "https://plus.google.com/101962710376509404433/about : 1\n",
      "tiger_import_dch_v0.6_20070809 : 1\n"
     ]
    }
   ],
   "source": [
    "def source():\n",
    "    \"\"\"display the sources of information and the number of times the sources were quoted in the map\"\"\"\n",
    "    source = []\n",
    "    for row in cur.execute(\"\"\"SELECT value, COUNT(*) as num\n",
    "                         FROM nodes_tags\n",
    "                         WHERE key = 'source'\n",
    "                        GROUP BY value\n",
    "                        ORDER BY num DESC\"\"\"):\n",
    "        print row[0],\":\", row[1]\n",
    "        source.append(row)\n",
    "    #return tourism\n",
    "source()"
   ]
  },
  {
   "cell_type": "markdown",
   "metadata": {},
   "source": [
    "# 4 Conclusion and Reflections\n",
    "\n",
    "Some observations from the map are as follows.\n",
    "1) The top1 contributor contributed over 30% of the posts. Top10 contributors contributed 70% of the posts\n",
    "2) A large part of the data comes from Bing.\n",
    "3) The information on the amenities, such as resturants are not very complete.\n",
    "4) For some fields, such as phone number, the input stypes are very inconsistent. \n",
    "\n",
    "Suggestions on encouraging data contribution:\n",
    "1) The open street map can be built into a online community with rewarding systems\n",
    "2) Functions such as photo uploading can be added.\n",
    "\n",
    "However, although these methods might increase the data quantity, they might compromise data quality. On one hand, the users might input inaccurate or invalid information just for the rewards or for fun. On the other, the more sources the data come from, the more inconsistent the data might be.\n",
    "\n",
    "For the issues regarding the validity and consistency of the data, data entry with forced schema or format might help. However, strict restrictions might discourage the users from participating. A less strict schema/format guide might also work.\n",
    "\n",
    "For the issue regarding data inaccuracy, inviting users to \"report inaccuracy\" or “revise information” might be help identify and revise the inaccuracy data.\n",
    "\n",
    "Besides, periodical data cleaning can help reduce the accumulated workload.\n",
    "\n"
   ]
  },
  {
   "cell_type": "markdown",
   "metadata": {},
   "source": [
    "# Reference\n",
    "http://www.sqlitetutorial.net/sqlite-import-csv/\n",
    "http://www.w3schools.com/sql/sql_syntax.asp\n",
    "https://stackoverflow.com/questions/19524554/suppress-code-in-nbconvert-ipython\n"
   ]
  }
 ],
 "metadata": {
  "kernelspec": {
   "display_name": "Python [Root]",
   "language": "python",
   "name": "Python [Root]"
  },
  "language_info": {
   "codemirror_mode": {
    "name": "ipython",
    "version": 2
   },
   "file_extension": ".py",
   "mimetype": "text/x-python",
   "name": "python",
   "nbconvert_exporter": "python",
   "pygments_lexer": "ipython2",
   "version": "2.7.12"
  }
 },
 "nbformat": 4,
 "nbformat_minor": 0
}
