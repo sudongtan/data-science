{
 "cells": [
  {
   "cell_type": "markdown",
   "metadata": {},
   "source": [
    "# Project 2: Investigating a Dateset\n",
    "\n",
    "Xiaodong TAN\n",
    "\n",
    "# 1 Introduction\n",
    "\n",
    "In this project, I conducted analysis on the titanic dataset.\n",
    "\n",
    "First, I am interested to know the structure of the dataset. I found out there are 12 variables in the dataset."
   ]
  },
  {
   "cell_type": "code",
   "execution_count": 2,
   "metadata": {
    "collapsed": false,
    "scrolled": true
   },
   "outputs": [
    {
     "data": {
      "text/plain": [
       "PassengerId      int64\n",
       "Survived         int64\n",
       "Pclass           int64\n",
       "Name            object\n",
       "Sex             object\n",
       "Age            float64\n",
       "SibSp            int64\n",
       "Parch            int64\n",
       "Ticket          object\n",
       "Fare           float64\n",
       "Cabin           object\n",
       "Embarked        object\n",
       "dtype: object"
      ]
     },
     "execution_count": 2,
     "metadata": {},
     "output_type": "execute_result"
    }
   ],
   "source": [
    "#import data\n",
    "\n",
    "import matplotlib.pyplot as plt\n",
    "import numpy as np\n",
    "import pandas as pd\n",
    "import seaborn as sns\n",
    "%pylab inline\n",
    "\n",
    "titanic = pd.read_csv(r'~/Documents/NanoDegree-DataAnalyst/P2 Investigate a Dataset/Data/titanic-data.csv')\n",
    "titanic.dtypes"
   ]
  },
  {
   "cell_type": "markdown",
   "metadata": {},
   "source": [
    "I noticed that survival is coded as an integer while it is more appropriate to be \"object\" (1 = survived/0 = not survived).\n",
    "\n",
    "I also noticed that Pclass is also integer while it is more appropriate to be \"category\" (class 1/2/3)\n",
    "\n",
    "I changed the types of the variables concerned accordingly."
   ]
  },
  {
   "cell_type": "code",
   "execution_count": 3,
   "metadata": {
    "collapsed": false
   },
   "outputs": [
    {
     "data": {
      "text/plain": [
       "PassengerId       int64\n",
       "Survived         object\n",
       "Pclass         category\n",
       "Name             object\n",
       "Sex              object\n",
       "Age             float64\n",
       "SibSp             int64\n",
       "Parch             int64\n",
       "Ticket           object\n",
       "Fare            float64\n",
       "Cabin            object\n",
       "Embarked         object\n",
       "dtype: object"
      ]
     },
     "execution_count": 3,
     "metadata": {},
     "output_type": "execute_result"
    }
   ],
   "source": [
    "titanic['Pclass'] = titanic['Pclass'].astype('category')\n",
    "titanic['Survived'] = titanic['Survived'].astype('object')\n",
    "titanic.dtypes"
   ]
  },
  {
   "cell_type": "markdown",
   "metadata": {},
   "source": [
    "\n"
   ]
  },
  {
   "cell_type": "markdown",
   "metadata": {},
   "source": [
    "# 2 Questions for the dataset\n",
    "\n",
    "The key question I proposed for the dataset is what factors made people more likely to survived.\n",
    "\n",
    "After reviewing the variables in the dataset, I formed some intuitive thoughts.\n",
    "\n",
    "1) Factors such as passenger class (a proxy to social economic class), sex and age are related to the passengers' personal background. They are all likely to be related to the survival rate.\n",
    "\n",
    "2) Factors such as number of siblings/spouses/parents/children abroad are situational. They are all likely to be related to the survival rate.\n",
    "\n",
    "3) Other factors such as passenger fare and port of embarkation are possible linked to the survival rate, as these factors might be related to the passengers' social-economic background. \n",
    "\n",
    "4) Other factors, such as ticket number and carbin (if it is not linked to Passenger class), are less likely to have a meaningful relationship with survival rate.\n",
    "\n",
    "\n",
    "In this project, I decided to focus on the passengers' personal background and explore if these personal factors (age, gender and passenger class/social economic class) are related to their possibiities to survive."
   ]
  },
  {
   "cell_type": "markdown",
   "metadata": {},
   "source": [
    "# 2.1 What are the characteristics of the passengers regarding their age, gender, class and survival rate?\n",
    "\n",
    "I obtained the descriptive statistics of each variable concerned.\n",
    "\n",
    "I found out that there are 891 samples in the dataset.\n",
    "\n",
    "1) 549 (over 60%) of them did not survive.\n",
    "\n",
    "2) There were more males than females.\n",
    "\n",
    "3) More than half of them were in Class 3.\n",
    "\n",
    "4) The age information is not available for all the passengers. Based on the available information, the youngest passenger was only a few months; the oldest  was 80-year-old."
   ]
  },
  {
   "cell_type": "code",
   "execution_count": 4,
   "metadata": {
    "collapsed": false
   },
   "outputs": [
    {
     "name": "stdout",
     "output_type": "stream",
     "text": [
      "count     891\n",
      "unique      2\n",
      "top         0\n",
      "freq      549\n",
      "Name: Survived, dtype: int64\n",
      "\n",
      "count      891\n",
      "unique       2\n",
      "top       male\n",
      "freq       577\n",
      "Name: Sex, dtype: object\n",
      "\n",
      "count     891\n",
      "unique      3\n",
      "top         3\n",
      "freq      491\n",
      "Name: Pclass, dtype: int64\n",
      "\n",
      "count    714.000000\n",
      "mean      29.699118\n",
      "std       14.526497\n",
      "min        0.420000\n",
      "25%             NaN\n",
      "50%             NaN\n",
      "75%             NaN\n",
      "max       80.000000\n",
      "Name: Age, dtype: float64\n"
     ]
    },
    {
     "name": "stderr",
     "output_type": "stream",
     "text": [
      "/home/dong/anaconda2/lib/python2.7/site-packages/numpy/lib/function_base.py:3834: RuntimeWarning: Invalid value encountered in percentile\n",
      "  RuntimeWarning)\n"
     ]
    }
   ],
   "source": [
    "survival = titanic['Survived']\n",
    "sex = titanic['Sex']\n",
    "passenger_class = titanic['Pclass']\n",
    "age = titanic['Age']\n",
    "\n",
    "print survival.describe()\n",
    "print \"\"\n",
    "print sex.describe()\n",
    "print \"\"\n",
    "print passenger_class.describe()\n",
    "print \"\"\n",
    "print age.describe()"
   ]
  },
  {
   "cell_type": "markdown",
   "metadata": {},
   "source": [
    "For the missing values of age, I have choices such as 1) excluding the sample with missing values 2) replacing the missing values with mean, median or mode; 3) multiple imputation, which can reduce the noised introduced by imputation; and 3) develping a model to calculate the missing value.\n",
    "\n",
    "In this project, as the dataset is already small, I prefer not to eliminate the missing values. Instead, I replaced the missing values with the median age, as I do not want to not change the median of the dataset."
   ]
  },
  {
   "cell_type": "code",
   "execution_count": 45,
   "metadata": {
    "collapsed": false
   },
   "outputs": [
    {
     "name": "stdout",
     "output_type": "stream",
     "text": [
      "count    891.000000\n",
      "mean      29.361582\n",
      "std       13.019697\n",
      "min        0.420000\n",
      "25%       22.000000\n",
      "50%       28.000000\n",
      "75%       35.000000\n",
      "max       80.000000\n",
      "Name: Age, dtype: float64\n"
     ]
    }
   ],
   "source": [
    "titanic['Age'].fillna(titanic['Age'].median(), inplace = True)\n",
    "print titanic['Age'].describe()"
   ]
  },
  {
   "cell_type": "markdown",
   "metadata": {},
   "source": [
    "I also plotted the three factors that I am going to explore.\n",
    "\n",
    "I found out that regarding the average age of the passengers:\n",
    "    \n",
    "1) males > females\n",
    "\n",
    "2) Class 1 > Class 2 > Class 3"
   ]
  },
  {
   "cell_type": "code",
   "execution_count": 46,
   "metadata": {
    "collapsed": false
   },
   "outputs": [
    {
     "data": {
      "text/plain": [
       "<matplotlib.text.Text at 0x7f04d6d56090>"
      ]
     },
     "execution_count": 46,
     "metadata": {},
     "output_type": "execute_result"
    },
    {
     "data": {
      "image/png": "[encoded data removed]",
      "text/plain": [
       "<matplotlib.figure.Figure at 0x7f04d6dd1ed0>"
      ]
     },
     "metadata": {},
     "output_type": "display_data"
    }
   ],
   "source": [
    "sns.factorplot(x=\"Sex\", y=\"Age\", hue=\"Pclass\", data=titanic, kind = \"bar\")\n",
    "sns.plt.title('Sex and Passenger Class comparison in terms of age')"
   ]
  },
  {
   "cell_type": "markdown",
   "metadata": {},
   "source": [
    "## 2.2 Is there any association between gender and survival?\n",
    "\n",
    "First, I counted the number of survived males and females, as well as non-survived males and females.\n",
    "\n",
    "I found out that among the survived individuals, there were more females than males. Among the non-survived, there were more males than females. \n",
    "\n",
    "Similary, among the females, there were more suvivors than non-survivors. Among the males, there were more non-survivors than survivors.\n",
    "\n",
    "In conclusion, there seems to be an association between gender and survival, that females are more likely to survive."
   ]
  },
  {
   "cell_type": "code",
   "execution_count": 36,
   "metadata": {
    "collapsed": false
   },
   "outputs": [
    {
     "data": {
      "text/plain": [
       "Survived  Sex   \n",
       "0         female     81\n",
       "          male      468\n",
       "1         female    233\n",
       "          male      109\n",
       "Name: Sex, dtype: int64"
      ]
     },
     "execution_count": 36,
     "metadata": {},
     "output_type": "execute_result"
    }
   ],
   "source": [
    "titanic.groupby('Survived')['Sex'].value_counts(sort=False)"
   ]
  },
  {
   "cell_type": "markdown",
   "metadata": {},
   "source": [
    "I plotted the data and similar characteristics were found."
   ]
  },
  {
   "cell_type": "code",
   "execution_count": 47,
   "metadata": {
    "collapsed": false
   },
   "outputs": [
    {
     "data": {
      "text/plain": [
       "<matplotlib.text.Text at 0x7f04d6bff350>"
      ]
     },
     "execution_count": 47,
     "metadata": {},
     "output_type": "execute_result"
    },
    {
     "data": {
      "image/png": "[encoded data removed]",
      "text/plain": [
       "<matplotlib.figure.Figure at 0x7f04d6d002d0>"
      ]
     },
     "metadata": {},
     "output_type": "display_data"
    }
   ],
   "source": [
    "sns.countplot(y=\"Sex\", hue=\"Survived\", data=titanic)\n",
    "sns.plt.title('Unsurvived vs survived in terms of sex')"
   ]
  },
  {
   "cell_type": "markdown",
   "metadata": {},
   "source": [
    "Next, I would like to know if the association between gender and survival is significant. As both age and gender are nominal variables, chi squares test of independence was used. The null hypothesis is that gender and survival rate are independant.\n",
    "\n",
    "After conducting the test, I found out that as p value < 0.01 < 0.05, the null hypothesis was rejected at the 95% confidence level. That is, there is significant association between gender and survival rate."
   ]
  },
  {
   "cell_type": "code",
   "execution_count": 38,
   "metadata": {
    "collapsed": false
   },
   "outputs": [
    {
     "name": "stdout",
     "output_type": "stream",
     "text": [
      "chi-square-statistic =  260.717\n",
      "p value =  1.19735706278e-58\n"
     ]
    }
   ],
   "source": [
    "from scipy.stats import chi2_contingency\n",
    "obs = np.array([[81,468], [233, 109]])\n",
    "chi = chi2_contingency(obs)\n",
    "print \"chi-square-statistic = \", round(chi[0], 4)\n",
    "print \"p value = \", chi[1]"
   ]
  },
  {
   "cell_type": "markdown",
   "metadata": {},
   "source": [
    "## 2.3 Is there any age difference between the people who survived and who did not?\n",
    "\n",
    "I calculated the average age of survivors and non-survivors.\n",
    "\n",
    "I found out that on average, the survived passengers are 2-year-old younger than the unsurvived passengers."
   ]
  },
  {
   "cell_type": "code",
   "execution_count": 39,
   "metadata": {
    "collapsed": false
   },
   "outputs": [
    {
     "data": {
      "text/plain": [
       "Survived\n",
       "0    30.028233\n",
       "1    28.291433\n",
       "Name: Age, dtype: float64"
      ]
     },
     "execution_count": 39,
     "metadata": {},
     "output_type": "execute_result"
    }
   ],
   "source": [
    "titanic.groupby('Survived')['Age'].mean()"
   ]
  },
  {
   "cell_type": "markdown",
   "metadata": {},
   "source": [
    "Boxplot shows similar features of the data. The minimum, median and 25%/75% percentile values of survived individuals are all lower than those of the nonsurvived individuals."
   ]
  },
  {
   "cell_type": "code",
   "execution_count": 40,
   "metadata": {
    "collapsed": false
   },
   "outputs": [
    {
     "data": {
      "text/plain": [
       "<matplotlib.text.Text at 0x7f04d7003090>"
      ]
     },
     "execution_count": 40,
     "metadata": {},
     "output_type": "execute_result"
    },
    {
     "data": {
      "image/png": "[encoded data removed]",
      "text/plain": [
       "<matplotlib.figure.Figure at 0x7f04d706a3d0>"
      ]
     },
     "metadata": {},
     "output_type": "display_data"
    }
   ],
   "source": [
    "sns.boxplot(x = \"Survived\", y = \"Age\", data = titanic)\n",
    "sns.plt.title('Nonsurvived vs survived in terms of age')"
   ]
  },
  {
   "cell_type": "markdown",
   "metadata": {},
   "source": [
    "I would like to know if there is significant difference between the average age of survivors and non-survivors. The null hypothesis is there is no significant difference. The alternative hypotheis is there is significant difference.\n",
    "\n",
    "I used two-detail indepentant t-test as 1) there are only two groups to compare; 2) the samples are indepentant; and 3) I did not expect which groups has an older average age in the null hypothesis.\n",
    "\n",
    "As the p-value for the test is 0.0527 > 0.05, the null hypothesis is rejected at the 95% confidence level.As a result, there are no significant age difference between the survived and unsurvived."
   ]
  },
  {
   "cell_type": "code",
   "execution_count": 41,
   "metadata": {
    "collapsed": false
   },
   "outputs": [
    {
     "name": "stdout",
     "output_type": "stream",
     "text": [
      "t statistics =  -1.93947\n",
      "p-value =  0.0527606884759\n"
     ]
    }
   ],
   "source": [
    "import scipy.stats as stats\n",
    "\n",
    "survival_age = titanic.loc[titanic['Survived'] == 1]['Age']\n",
    "non_survival_age = titanic.loc[titanic['Survived'] == 0]['Age']\n",
    "\n",
    "# print survival_age\n",
    "# print non_survival_age\n",
    "\n",
    "t_test =  stats.ttest_ind(survival_age, non_survival_age, nan_policy='omit')\n",
    "\n",
    "print \"t statistics = \", round(t_test[0],5)\n",
    "print \"p-value = \", t_test[1]"
   ]
  },
  {
   "cell_type": "markdown",
   "metadata": {},
   "source": [
    "## 2.4 From which class are passengers more likely to survive?\n",
    "\n",
    "I calculated the number of survivors/nonsurvivors of passengers in different classes.\n",
    "\n",
    "I found out that for passengers from Class 1, there were more survivors than non-survivors. For passengers from class 2, there were a little fewer survivors than nonsurvivors. For passengers from class 3, there were far more non-survivors than survivors.\n",
    "\n",
    "As a result, there seems to be an association between passenger class and survival rate. Passengers from Class 1 more likely to survive than passengers from Class 2 or 3."
   ]
  },
  {
   "cell_type": "code",
   "execution_count": 42,
   "metadata": {
    "collapsed": false
   },
   "outputs": [
    {
     "data": {
      "text/plain": [
       "Pclass  Survived\n",
       "1       0            80\n",
       "        1           136\n",
       "2       0            97\n",
       "        1            87\n",
       "3       0           372\n",
       "        1           119\n",
       "Name: Survived, dtype: int64"
      ]
     },
     "execution_count": 42,
     "metadata": {},
     "output_type": "execute_result"
    }
   ],
   "source": [
    "titanic.groupby('Pclass')['Survived'].value_counts(sort=False)"
   ]
  },
  {
   "cell_type": "markdown",
   "metadata": {},
   "source": [
    "I plotted the data and similar characteristics were found."
   ]
  },
  {
   "cell_type": "code",
   "execution_count": 43,
   "metadata": {
    "collapsed": false
   },
   "outputs": [
    {
     "data": {
      "text/plain": [
       "<matplotlib.text.Text at 0x7f04d6eac290>"
      ]
     },
     "execution_count": 43,
     "metadata": {},
     "output_type": "execute_result"
    },
    {
     "data": {
      "image/png": "[encoded data removed]",
      "text/plain": [
       "<matplotlib.figure.Figure at 0x7f04d6fe3650>"
      ]
     },
     "metadata": {},
     "output_type": "display_data"
    }
   ],
   "source": [
    "sns.countplot(y=\"Pclass\", hue=\"Survived\", data=titanic)\n",
    "sns.plt.title('Nonsurvived vs survived in terms of passenger class')"
   ]
  },
  {
   "cell_type": "markdown",
   "metadata": {},
   "source": [
    "I would like to test if the association between passenger class and survival rate is significant. Similarly, chi-square test of independence was used and the null hypothesis is that passenger class and survival rate are independant.\n",
    "\n",
    "As p value < 0.01 < 0.05, the null hypothesis was rejected at the 95% and 99% confidence level. That is, there is significant association between passenger class and survival rate."
   ]
  },
  {
   "cell_type": "code",
   "execution_count": 14,
   "metadata": {
    "collapsed": false
   },
   "outputs": [
    {
     "name": "stdout",
     "output_type": "stream",
     "text": [
      "chi-square-statistic =  102.889\n",
      "p value =  4.5492517113e-23\n"
     ]
    }
   ],
   "source": [
    "obs = np.array([[136, 87, 119], [80, 97, 372]])\n",
    "chi = chi2_contingency(obs)\n",
    "print \"chi-square-statistic = \", round(chi[0], 4)\n",
    "print \"p value = \", chi[1]"
   ]
  },
  {
   "cell_type": "markdown",
   "metadata": {},
   "source": [
    "# 3 Summary\n",
    "In summary, \n",
    "Females were more likely to survive than males. The gender difference is statistically significant at the 95% and 99% confidence level.\n",
    "\n",
    "People in higher class carbin (from higher social economic class) are more likely to survive than people in lower class carbin (from lower social economic class). The class difference is statistically significant at the 95% and 99% confidence level.\n",
    "\n",
    "Survivors were 2-year younger than the non-survivors. However, the age difference is not statistically significant at the 95% confidence level.\n",
    "\n",
    "There are shortcomings about this project. As the data of titanic's survival was collected over 100 hundred years ago and a lot of things have changed since then, the findings from the dataset are very difficult to generalize to modern disasters.\n",
    "\n",
    "In this project, I only explored the personal factors. For future studies, it would be interesting to explore situational factors themselves and how personal background and situational factors interact to affect the survival rate. For examples, compared with males, are females more likely to survive with or without family?"
   ]
  },
  {
   "cell_type": "markdown",
   "metadata": {
    "collapsed": true
   },
   "source": [
    "References:\n",
    "http://www.ats.ucla.edu/stat/mult_pkg/whatstat/\n",
    "http://math.hws.edu/javamath/ryan/ChiSquare.html\n",
    "https://docs.scipy.org/doc/scipy-0.15.1/reference/generated/scipy.stats.chi2_contingency.html\n",
    "http://pandas.pydata.org/pandas-docs/stable/generated/pandas.DataFrame.astype.html\n",
    "http://seaborn.pydata.org/examples/ http://stackoverflow.com/questions/18689823/pandas-dataframe-replace-nan-values-with-average-of-columns https://www.kaggle.com/mrisdal/titanic/exploring-survival-on-the-titanic/comments"
   ]
  }
 ],
 "metadata": {
  "kernelspec": {
   "display_name": "Python [Root]",
   "language": "python",
   "name": "Python [Root]"
  },
  "language_info": {
   "codemirror_mode": {
    "name": "ipython",
    "version": 2
   },
   "file_extension": ".py",
   "mimetype": "text/x-python",
   "name": "python",
   "nbconvert_exporter": "python",
   "pygments_lexer": "ipython2",
   "version": "2.7.12"
  }
 },
 "nbformat": 4,
 "nbformat_minor": 0
}
