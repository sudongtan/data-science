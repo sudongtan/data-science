{
 "cells": [
  {
   "cell_type": "code",
   "execution_count": 164,
   "metadata": {
    "collapsed": false
   },
   "outputs": [],
   "source": [
    "import sys\n",
    "import pickle\n",
    "#!touch tools/__init__.py\n",
    "#sys.path.insert(0, 'tools')\n",
    "\n",
    "from tools.feature_format import featureFormat, targetFeatureSplit\n",
    "from tools.tester import dump_classifier_and_data\n",
    "from tools.tester import test_classifier\n",
    "\n",
    "import pprint\n",
    "import numpy as np\n",
    "import matplotlib.pyplot as plt\n",
    "%matplotlib inline"
   ]
  },
  {
   "cell_type": "code",
   "execution_count": 165,
   "metadata": {
    "collapsed": false
   },
   "outputs": [],
   "source": [
    "with open(\"data/final_project_dataset.pkl\", \"r\") as data_file:\n",
    "    data_dict = pickle.load(data_file)\n",
    "\n",
    "#pprint.pprint(data_dict['METTS MARK'])"
   ]
  },
  {
   "cell_type": "code",
   "execution_count": 166,
   "metadata": {
    "collapsed": false
   },
   "outputs": [
    {
     "name": "stdout",
     "output_type": "stream",
     "text": [
      "['poi',\n",
      " 'salary',\n",
      " 'deferral_payments',\n",
      " 'total_payments',\n",
      " 'bonus',\n",
      " 'exercised_stock_options',\n",
      " 'restricted_stock',\n",
      " 'restricted_stock_deferred',\n",
      " 'total_stock_value',\n",
      " 'expenses',\n",
      " 'loan_advances',\n",
      " 'other',\n",
      " 'director_fees',\n",
      " 'deferred_income',\n",
      " 'long_term_incentive',\n",
      " 'to_messages',\n",
      " 'from_messages',\n",
      " 'from_this_person_to_poi',\n",
      " 'from_poi_to_this_person',\n",
      " 'shared_receipt_with_poi']\n"
     ]
    }
   ],
   "source": [
    "financial_features_list = ['salary', 'deferral_payments', \n",
    "                           'total_payments', \n",
    "                           'bonus', \n",
    "                           'exercised_stock_options', \n",
    "                           'restricted_stock', \n",
    "                           'restricted_stock_deferred', \n",
    "                           'total_stock_value', 'expenses', \n",
    "                           'loan_advances', \n",
    "                           'other', \n",
    "                           'director_fees', \n",
    "                           'deferred_income', \n",
    "                           'long_term_incentive' ]\n",
    "\n",
    "email_features_list = ['to_messages', \n",
    "                       'from_messages', \n",
    "                       'from_this_person_to_poi', \n",
    "                       'from_poi_to_this_person', \n",
    "                       'shared_receipt_with_poi']\n",
    "\n",
    "features_list = ['poi'] + financial_features_list + email_features_list\n",
    "\n",
    "pprint.pprint(features_list)"
   ]
  },
  {
   "cell_type": "markdown",
   "metadata": {},
   "source": [
    "# Data exploration"
   ]
  },
  {
   "cell_type": "code",
   "execution_count": 167,
   "metadata": {
    "collapsed": false
   },
   "outputs": [
    {
     "name": "stdout",
     "output_type": "stream",
     "text": [
      "Number of records:  146\n",
      "Number of POI: 18\n"
     ]
    }
   ],
   "source": [
    "# Data summary\n",
    "\n",
    "print \"Number of records: \", len(data_dict)\n",
    "\n",
    "count_poi = 0\n",
    "for person in data_dict:\n",
    "    if data_dict[person]['poi'] == True:\n",
    "        count_poi += 1\n",
    "        \n",
    "print \"Number of POI:\", count_poi"
   ]
  },
  {
   "cell_type": "code",
   "execution_count": 168,
   "metadata": {
    "collapsed": false
   },
   "outputs": [
    {
     "name": "stdout",
     "output_type": "stream",
     "text": [
      "{'bonus': 64,\n",
      " 'deferral_payments': 107,\n",
      " 'deferred_income': 97,\n",
      " 'director_fees': 129,\n",
      " 'exercised_stock_options': 44,\n",
      " 'expenses': 51,\n",
      " 'from_messages': 60,\n",
      " 'from_poi_to_this_person': 60,\n",
      " 'from_this_person_to_poi': 60,\n",
      " 'loan_advances': 142,\n",
      " 'long_term_incentive': 80,\n",
      " 'other': 53,\n",
      " 'poi': 0,\n",
      " 'restricted_stock': 36,\n",
      " 'restricted_stock_deferred': 128,\n",
      " 'salary': 51,\n",
      " 'shared_receipt_with_poi': 60,\n",
      " 'to_messages': 60,\n",
      " 'total_payments': 21,\n",
      " 'total_stock_value': 20}\n"
     ]
    }
   ],
   "source": [
    "# find missing values\n",
    "\n",
    "missing_values = {}\n",
    "\n",
    "for feature in features_list:\n",
    "    missing_values[feature] = 0\n",
    "    \n",
    "for person in data_dict:\n",
    "    for feature in features_list:\n",
    "        if data_dict[person][feature] == 'NaN':\n",
    "            missing_values[feature] += 1\n",
    "\n",
    "pprint.pprint(missing_values)"
   ]
  },
  {
   "cell_type": "markdown",
   "metadata": {},
   "source": [
    "## Outlier: extreme values"
   ]
  },
  {
   "cell_type": "code",
   "execution_count": 169,
   "metadata": {
    "collapsed": false
   },
   "outputs": [],
   "source": [
    "# Process data to be matrix\n",
    "\n",
    "data_matrix = featureFormat(data_dict, features_list)\n",
    "\n",
    "salary = data_matrix[:,1]\n",
    "bonus = data_matrix[:, 4]"
   ]
  },
  {
   "cell_type": "code",
   "execution_count": 170,
   "metadata": {
    "collapsed": false
   },
   "outputs": [
    {
     "data": {
      "image/png": "[encoded data removed]",
      "text/plain": [
       "<matplotlib.figure.Figure at 0x7f12c45b0910>"
      ]
     },
     "metadata": {},
     "output_type": "display_data"
    }
   ],
   "source": [
    "# plot the data to find outlier       \n",
    "plt.scatter(salary, bonus)\n",
    "plt.xlabel(\"salary\")\n",
    "plt.ylabel(\"bonus\")\n",
    "plt.show()"
   ]
  },
  {
   "cell_type": "code",
   "execution_count": 171,
   "metadata": {
    "collapsed": false
   },
   "outputs": [
    {
     "name": "stdout",
     "output_type": "stream",
     "text": [
      "TOTAL\n"
     ]
    }
   ],
   "source": [
    "# find the key of the outlier\n",
    "for person, features in data_dict.items():\n",
    "    if features['salary'] > 20000000 and features['salary'] != \"NaN\":\n",
    "        print person"
   ]
  },
  {
   "cell_type": "code",
   "execution_count": 172,
   "metadata": {
    "collapsed": false
   },
   "outputs": [],
   "source": [
    "# Remove outliers\n",
    "del data_dict[\"TOTAL\"]"
   ]
  },
  {
   "cell_type": "code",
   "execution_count": 173,
   "metadata": {
    "collapsed": false
   },
   "outputs": [
    {
     "data": {
      "image/png": "[encoded data removed]",
      "text/plain": [
       "<matplotlib.figure.Figure at 0x7f12954062d0>"
      ]
     },
     "metadata": {},
     "output_type": "display_data"
    }
   ],
   "source": [
    "data_matrix = featureFormat(data_dict, features_list)\n",
    "salary = data_matrix[:,1]\n",
    "bonus = data_matrix[:, 4]\n",
    "plt.scatter(salary, bonus)\n",
    "plt.xlabel(\"salary\")\n",
    "plt.ylabel(\"bonus\")\n",
    "plt.show()"
   ]
  },
  {
   "cell_type": "markdown",
   "metadata": {},
   "source": [
    "## Outliers: Nonvalid record"
   ]
  },
  {
   "cell_type": "code",
   "execution_count": 174,
   "metadata": {
    "collapsed": false
   },
   "outputs": [
    {
     "name": "stdout",
     "output_type": "stream",
     "text": [
      "{'ALLEN PHILLIP K': 2,\n",
      " 'BADUM JAMES P': 15,\n",
      " 'BANNANTINE JAMES M': 5,\n",
      " 'BAXTER JOHN C': 9,\n",
      " 'BAY FRANKLIN R': 9,\n",
      " 'BAZELIDES PHILIP J': 13,\n",
      " 'BECK SALLY W': 7,\n",
      " 'BELDEN TIMOTHY N': 4,\n",
      " 'BELFER ROBERT': 14,\n",
      " 'BERBERIAN DAVID': 13,\n",
      " 'BERGSIEKER RICHARD P': 5,\n",
      " 'BHATNAGAR SANJAY': 8,\n",
      " 'BIBI PHILIPPE A': 5,\n",
      " 'BLACHMAN JEREMY M': 5,\n",
      " 'BLAKE JR. NORMAN P': 16,\n",
      " 'BOWEN JR RAYMOND M': 5,\n",
      " 'BROWN MICHAEL': 12,\n",
      " 'BUCHANAN HAROLD G': 5,\n",
      " 'BUTTS ROBERT H': 10,\n",
      " 'BUY RICHARD B': 4,\n",
      " 'CALGER CHRISTOPHER F': 5,\n",
      " 'CARTER REBECCA C': 6,\n",
      " 'CAUSEY RICHARD A': 5,\n",
      " 'CHAN RONNIE': 16,\n",
      " 'CHRISTODOULOU DIOMEDES': 16,\n",
      " 'CLINE KENNETH W': 17,\n",
      " 'COLWELL WESLEY': 5,\n",
      " 'CORDES WILLIAM R': 11,\n",
      " 'COX DAVID': 5,\n",
      " 'CUMBERLAND MICHAEL S': 12,\n",
      " 'DEFFNER JOSEPH M': 5,\n",
      " 'DELAINEY DAVID W': 5,\n",
      " 'DERRICK JR. JAMES V': 3,\n",
      " 'DETMERING TIMOTHY J': 7,\n",
      " 'DIETRICH JANET R': 5,\n",
      " 'DIMICHELE RICHARD G': 10,\n",
      " 'DODSON KEITH': 9,\n",
      " 'DONAHUE JR JEFFREY M': 5,\n",
      " 'DUNCAN JOHN H': 15,\n",
      " 'DURAN WILLIAM D': 5,\n",
      " 'ECHOLS JOHN B': 10,\n",
      " 'ELLIOTT STEVEN': 10,\n",
      " 'FALLON JAMES B': 5,\n",
      " 'FASTOW ANDREW S': 10,\n",
      " 'FITZGERALD JAY L': 5,\n",
      " 'FOWLER PEGGY': 11,\n",
      " 'FOY JOE': 10,\n",
      " 'FREVERT MARK A': 2,\n",
      " 'FUGH JOHN L': 16,\n",
      " 'GAHN ROBERT S': 10,\n",
      " 'GARLAND C KEVIN': 5,\n",
      " 'GATHMANN WILLIAM D': 16,\n",
      " 'GIBBS DANA R': 9,\n",
      " 'GILLIS JOHN': 17,\n",
      " 'GLISAN JR BEN F': 5,\n",
      " 'GOLD JOSEPH': 11,\n",
      " 'GRAMM WENDY L': 18,\n",
      " 'GRAY RODNEY': 15,\n",
      " 'HAEDICKE MARK E': 2,\n",
      " 'HANNON KEVIN P': 4,\n",
      " 'HAUG DAVID L': 10,\n",
      " 'HAYES ROBERT E': 10,\n",
      " 'HAYSLETT RODERICK J': 12,\n",
      " 'HERMANN ROBERT J': 9,\n",
      " 'HICKERSON GARY J': 6,\n",
      " 'HIRKO JOSEPH': 13,\n",
      " 'HORTON STANLEY C': 9,\n",
      " 'HUGHES JAMES A': 11,\n",
      " 'HUMPHREY GENE E': 8,\n",
      " 'IZZO LAWRENCE L': 6,\n",
      " 'JACKSON CHARLENE R': 6,\n",
      " 'JAEDICKE ROBERT': 13,\n",
      " 'KAMINSKI WINCENTY J': 5,\n",
      " 'KEAN STEVEN J': 5,\n",
      " 'KISHKILL JOSEPH G': 12,\n",
      " 'KITCHEN LOUISE': 6,\n",
      " 'KOENIG MARK E': 5,\n",
      " 'KOPPER MICHAEL J': 11,\n",
      " 'LAVORATO JOHN J': 5,\n",
      " 'LAY KENNETH L': 2,\n",
      " 'LEFF DANIEL P': 7,\n",
      " 'LEMAISTRE CHARLES': 15,\n",
      " 'LEWIS RICHARD': 12,\n",
      " 'LINDHOLM TOD A': 9,\n",
      " 'LOCKHART EUGENE E': 20,\n",
      " 'LOWRY CHARLES P': 16,\n",
      " 'MARTIN AMANDA K': 6,\n",
      " 'MCCARTY DANNY J': 11,\n",
      " 'MCCLELLAN GEORGE': 5,\n",
      " 'MCCONNELL MICHAEL S': 5,\n",
      " 'MCDONALD REBECCA': 11,\n",
      " 'MCMAHON JEFFREY': 5,\n",
      " 'MENDELSOHN JOHN': 16,\n",
      " 'METTS MARK': 7,\n",
      " 'MEYER JEROME J': 16,\n",
      " 'MEYER ROCKFORD G': 9,\n",
      " 'MORAN MICHAEL P': 11,\n",
      " 'MORDAUNT KRISTINA M': 12,\n",
      " 'MULLER MARK S': 4,\n",
      " 'MURRAY JULIA H': 5,\n",
      " 'NOLES JAMES L': 15,\n",
      " 'OLSON CINDY K': 4,\n",
      " 'OVERDYKE JR JERE C': 11,\n",
      " 'PAI LOU L': 11,\n",
      " 'PEREIRA PAULO V. FERRAZ': 16,\n",
      " 'PICKERING MARK R': 7,\n",
      " 'PIPER GREGORY F': 3,\n",
      " 'PIRO JIM': 12,\n",
      " 'POWERS WILLIAM': 12,\n",
      " 'PRENTICE JAMES': 14,\n",
      " 'REDMOND BRIAN L': 8,\n",
      " 'REYNOLDS LAWRENCE': 8,\n",
      " 'RICE KENNETH D': 4,\n",
      " 'RIEKER PAULA H': 4,\n",
      " 'SAVAGE FRANK': 17,\n",
      " 'SCRIMSHAW MATTHEW': 17,\n",
      " 'SHANKMAN JEFFREY A': 5,\n",
      " 'SHAPIRO RICHARD S': 6,\n",
      " 'SHARP VICTORIA T': 4,\n",
      " 'SHELBY REX': 5,\n",
      " 'SHERRICK JEFFREY B': 11,\n",
      " 'SHERRIFF JOHN R': 6,\n",
      " 'SKILLING JEFFREY K': 5,\n",
      " 'STABLER FRANK': 12,\n",
      " 'SULLIVAN-SHAKLOVITZ COLLEEN': 12,\n",
      " 'SUNDE MARTIN': 7,\n",
      " 'TAYLOR MITCHELL S': 7,\n",
      " 'THE TRAVEL AGENCY IN THE PARK': 18,\n",
      " 'THORN TERENCE H': 5,\n",
      " 'TILNEY ELIZABETH A': 5,\n",
      " 'UMANOFF ADAM S': 10,\n",
      " 'URQUHART JOHN A': 16,\n",
      " 'WAKEHAM JOHN': 17,\n",
      " 'WALLS JR ROBERT H': 5,\n",
      " 'WALTERS GARETH W': 15,\n",
      " 'WASAFF GEORGE': 4,\n",
      " 'WESTFAHL RICHARD K': 11,\n",
      " 'WHALEY DAVID A': 18,\n",
      " 'WHALLEY LAWRENCE G': 5,\n",
      " 'WHITE JR THOMAS E': 11,\n",
      " 'WINOKUR JR. HERBERT S': 16,\n",
      " 'WODRASKA JOHN': 17,\n",
      " 'WROBEL BRUCE': 18,\n",
      " 'YEAGER F SCOTT': 12,\n",
      " 'YEAP SOON': 16}\n"
     ]
    }
   ],
   "source": [
    "# Identify other outliers\n",
    "NaN_by_person = {}\n",
    "for person, features in data_dict.items():\n",
    "    count = 0\n",
    "    for feature in features:\n",
    "        if features[feature] == \"NaN\":\n",
    "            count += 1\n",
    "    NaN_by_person[person] = count\n",
    "\n",
    "pprint.pprint(NaN_by_person)"
   ]
  },
  {
   "cell_type": "code",
   "execution_count": 175,
   "metadata": {
    "collapsed": false
   },
   "outputs": [
    {
     "name": "stdout",
     "output_type": "stream",
     "text": [
      "{'salary': 'NaN', 'to_messages': 'NaN', 'deferral_payments': 'NaN', 'total_payments': 362096, 'exercised_stock_options': 'NaN', 'bonus': 'NaN', 'restricted_stock': 'NaN', 'shared_receipt_with_poi': 'NaN', 'restricted_stock_deferred': 'NaN', 'total_stock_value': 'NaN', 'expenses': 'NaN', 'loan_advances': 'NaN', 'from_messages': 'NaN', 'other': 362096, 'from_this_person_to_poi': 'NaN', 'poi': False, 'director_fees': 'NaN', 'deferred_income': 'NaN', 'long_term_incentive': 'NaN', 'email_address': 'NaN', 'from_poi_to_this_person': 'NaN'}\n",
      "{'salary': 'NaN', 'to_messages': 'NaN', 'deferral_payments': 'NaN', 'total_payments': 'NaN', 'exercised_stock_options': 'NaN', 'bonus': 'NaN', 'restricted_stock': 'NaN', 'shared_receipt_with_poi': 'NaN', 'restricted_stock_deferred': 'NaN', 'total_stock_value': 'NaN', 'expenses': 'NaN', 'loan_advances': 'NaN', 'from_messages': 'NaN', 'other': 'NaN', 'from_this_person_to_poi': 'NaN', 'poi': False, 'director_fees': 'NaN', 'deferred_income': 'NaN', 'long_term_incentive': 'NaN', 'email_address': 'NaN', 'from_poi_to_this_person': 'NaN'}\n"
     ]
    }
   ],
   "source": [
    "print data_dict['THE TRAVEL AGENCY IN THE PARK']\n",
    "print data_dict['LOCKHART EUGENE E']"
   ]
  },
  {
   "cell_type": "code",
   "execution_count": 176,
   "metadata": {
    "collapsed": false
   },
   "outputs": [],
   "source": [
    "# remove the two outliers\n",
    "del data_dict['THE TRAVEL AGENCY IN THE PARK']\n",
    "del data_dict['LOCKHART EUGENE E']"
   ]
  },
  {
   "cell_type": "code",
   "execution_count": 177,
   "metadata": {
    "collapsed": false
   },
   "outputs": [
    {
     "data": {
      "text/plain": [
       "143"
      ]
     },
     "execution_count": 177,
     "metadata": {},
     "output_type": "execute_result"
    }
   ],
   "source": [
    "len(data_dict)"
   ]
  },
  {
   "cell_type": "markdown",
   "metadata": {},
   "source": [
    "## Creating new features"
   ]
  },
  {
   "cell_type": "code",
   "execution_count": 178,
   "metadata": {
    "collapsed": false
   },
   "outputs": [
    {
     "data": {
      "text/plain": [
       "['poi',\n",
       " 'salary',\n",
       " 'deferral_payments',\n",
       " 'total_payments',\n",
       " 'bonus',\n",
       " 'exercised_stock_options',\n",
       " 'restricted_stock',\n",
       " 'restricted_stock_deferred',\n",
       " 'total_stock_value',\n",
       " 'expenses',\n",
       " 'loan_advances',\n",
       " 'other',\n",
       " 'director_fees',\n",
       " 'deferred_income',\n",
       " 'long_term_incentive',\n",
       " 'to_messages',\n",
       " 'from_messages',\n",
       " 'from_this_person_to_poi',\n",
       " 'from_poi_to_this_person',\n",
       " 'shared_receipt_with_poi',\n",
       " 'total_poi_percentage']"
      ]
     },
     "execution_count": 178,
     "metadata": {},
     "output_type": "execute_result"
    }
   ],
   "source": [
    "# create new features\n",
    "\n",
    "for person, features in data_dict.items():\n",
    "    a = features[\"from_poi_to_this_person\"]\n",
    "    b = features[\"from_this_person_to_poi\"]\n",
    "    c = features['to_messages']\n",
    "    d = features['from_messages']  \n",
    "    \n",
    "    if a == \"NaN\" or c == \"NaN\" or b == \"NaN\" or d == \"NaN\" or (c == 0 and d == 0): \n",
    "        features['total_poi_percentage'] = \"NaN\"\n",
    "    else:\n",
    "        features['total_poi_percentage'] = float(a+b)/(c+d)\n",
    "        \n",
    "        \n",
    "features_list_expanded = ['poi'] + financial_features_list + email_features_list + ['total_poi_percentage' ]\n",
    "features_list_expanded"
   ]
  },
  {
   "cell_type": "code",
   "execution_count": 179,
   "metadata": {
    "collapsed": false
   },
   "outputs": [],
   "source": [
    "#print len(data_dict['METTS MARK'])\n",
    "#data_dict['METTS MARK']\n",
    "\n",
    "#print data_dict['BADUM JAMES P']\n",
    "#for person, features in data_dict.items():\n",
    "    #print features['from_poi_percentage'], features['to_poi_percentage'], features ['total_poi_percentage']"
   ]
  },
  {
   "cell_type": "code",
   "execution_count": 180,
   "metadata": {
    "collapsed": false
   },
   "outputs": [
    {
     "name": "stdout",
     "output_type": "stream",
     "text": [
      "143\n"
     ]
    }
   ],
   "source": [
    "# Store to my_dataset for easy export below\n",
    "my_dataset = data_dict\n",
    "print len(my_dataset)"
   ]
  },
  {
   "cell_type": "markdown",
   "metadata": {},
   "source": [
    "# Model Training and Parameter Tuning"
   ]
  },
  {
   "cell_type": "code",
   "execution_count": 181,
   "metadata": {
    "collapsed": false
   },
   "outputs": [],
   "source": [
    "# Extract features and lables from datatest for local testing\n",
    "data = featureFormat(my_dataset, features_list_expanded, sort_keys = True)\n",
    "target, features = targetFeatureSplit(data)"
   ]
  },
  {
   "cell_type": "code",
   "execution_count": 182,
   "metadata": {
    "collapsed": false
   },
   "outputs": [],
   "source": [
    "from sklearn.linear_model import LogisticRegression\n",
    "from sklearn.cluster import KMeans\n",
    "from sklearn.svm import SVC\n",
    "from sklearn.ensemble import RandomForestClassifier\n",
    "from sklearn.naive_bayes import GaussianNB\n",
    "from sklearn.ensemble import AdaBoostClassifier\n",
    "from sklearn.tree import DecisionTreeClassifier\n",
    "\n",
    "from sklearn.model_selection import GridSearchCV\n",
    "from sklearn.metrics import classification_report\n",
    "from sklearn.cross_validation import StratifiedShuffleSplit\n",
    "from sklearn.pipeline import Pipeline\n",
    "from sklearn.preprocessing import StandardScaler"
   ]
  },
  {
   "cell_type": "code",
   "execution_count": 183,
   "metadata": {
    "collapsed": true
   },
   "outputs": [],
   "source": [
    "def tune_parameters(clf, parameters, folds=1000):\n",
    "    grid_search = GridSearchCV(clf, parameters, \n",
    "                      cv=StratifiedShuffleSplit(target, folds, random_state=42),\n",
    "                      n_jobs=-1, scoring='f1', verbose = 1)\n",
    "    grid_search.fit(features, target)\n",
    "    \n",
    "    best_model = grid_search.best_estimator_\n",
    "    \n",
    "    print type(clf.steps[-1][1]).__name__\n",
    "    print grid_search.best_params_\n",
    "    print grid_search.best_score_\n",
    "    print test_classifier(best_model, my_dataset,features_list_expanded)\n",
    "    \n",
    "    #return  grid_search.best_estimator_"
   ]
  },
  {
   "cell_type": "markdown",
   "metadata": {},
   "source": [
    "## Logistic Regression"
   ]
  },
  {
   "cell_type": "code",
   "execution_count": 98,
   "metadata": {
    "collapsed": false
   },
   "outputs": [
    {
     "name": "stdout",
     "output_type": "stream",
     "text": [
      "Logistic Regression Classifier : \n",
      "LogisticRegression(C=1.0, class_weight=None, dual=False, fit_intercept=True,\n",
      "          intercept_scaling=1, max_iter=100, multi_class='ovr', n_jobs=1,\n",
      "          penalty='l2', random_state=None, solver='liblinear', tol=0.0001,\n",
      "          verbose=0, warm_start=False)\n",
      "\tAccuracy: 0.78187\tPrecision: 0.17846\tRecall: 0.17650\tF1: 0.17748\tF2: 0.17689\n",
      "\tTotal predictions: 15000\tTrue positives:  353\tFalse positives: 1625\tFalse negatives: 1647\tTrue negatives: 11375\n",
      "\n",
      "None\n",
      "Logistic Regression Classifier_standardized : \n",
      "Pipeline(steps=[('kbf', SelectKBest(k=10, score_func=<function f_classif at 0x7f12d1de4758>)), ('scaler', StandardScaler(copy=True, with_mean=True, with_std=True)), ('clf', LogisticRegression(C=1.0, class_weight=None, dual=False, fit_intercept=True,\n",
      "          intercept_scaling=1, max_iter=100, multi_class='ovr', n_jobs=1,\n",
      "          penalty='l2', random_state=None, solver='liblinear', tol=0.0001,\n",
      "          verbose=0, warm_start=False))])\n",
      "\tAccuracy: 0.85920\tPrecision: 0.42765\tRecall: 0.16550\tF1: 0.23864\tF2: 0.18863\n",
      "\tTotal predictions: 15000\tTrue positives:  331\tFalse positives:  443\tFalse negatives: 1669\tTrue negatives: 12557\n",
      "\n",
      "None\n"
     ]
    }
   ],
   "source": [
    "lr_clf = LogisticRegression()\n",
    "print \"Logistic Regression Classifier : \\n\", test_classifier(lr_clf, my_dataset, features_list_expanded)\n",
    "\n",
    "lr_clf_scaled = Pipeline(steps=[('kbf', SelectKBest()),\n",
    "                                ('scaler', StandardScaler()),\n",
    "                                ('clf', LogisticRegression())])\n",
    "print \"Logistic Regression Classifier_standardized : \\n\", test_classifier(lr_clf_scaled, my_dataset, features_list_expanded)"
   ]
  },
  {
   "cell_type": "code",
   "execution_count": 102,
   "metadata": {
    "collapsed": false
   },
   "outputs": [
    {
     "name": "stdout",
     "output_type": "stream",
     "text": [
      "Fitting 1000 folds for each of 440 candidates, totalling 440000 fits\n"
     ]
    },
    {
     "name": "stderr",
     "output_type": "stream",
     "text": [
      "/home/dong/anaconda2/lib/python2.7/site-packages/sklearn/metrics/classification.py:1113: UndefinedMetricWarning: F-score is ill-defined and being set to 0.0 due to no predicted samples.\n",
      "  'precision', 'predicted', average, warn_for)\n",
      "/home/dong/anaconda2/lib/python2.7/site-packages/sklearn/metrics/classification.py:1113: UndefinedMetricWarning: F-score is ill-defined and being set to 0.0 due to no predicted samples.\n",
      "  'precision', 'predicted', average, warn_for)\n",
      "/home/dong/anaconda2/lib/python2.7/site-packages/sklearn/metrics/classification.py:1113: UndefinedMetricWarning: F-score is ill-defined and being set to 0.0 due to no predicted samples.\n",
      "  'precision', 'predicted', average, warn_for)\n",
      "/home/dong/anaconda2/lib/python2.7/site-packages/sklearn/metrics/classification.py:1113: UndefinedMetricWarning: F-score is ill-defined and being set to 0.0 due to no predicted samples.\n",
      "  'precision', 'predicted', average, warn_for)\n",
      "[Parallel(n_jobs=-1)]: Done 144 tasks      | elapsed:    1.8s\n",
      "[Parallel(n_jobs=-1)]: Done 744 tasks      | elapsed:    9.7s\n",
      "[Parallel(n_jobs=-1)]: Done 1744 tasks      | elapsed:   23.5s\n",
      "[Parallel(n_jobs=-1)]: Done 3144 tasks      | elapsed:   43.5s\n",
      "[Parallel(n_jobs=-1)]: Done 4944 tasks      | elapsed:  1.2min\n",
      "[Parallel(n_jobs=-1)]: Done 7144 tasks      | elapsed:  1.7min\n",
      "[Parallel(n_jobs=-1)]: Done 9744 tasks      | elapsed:  2.3min\n",
      "[Parallel(n_jobs=-1)]: Done 12744 tasks      | elapsed:  3.1min\n",
      "[Parallel(n_jobs=-1)]: Done 16144 tasks      | elapsed:  3.9min\n",
      "[Parallel(n_jobs=-1)]: Done 19944 tasks      | elapsed:  4.8min\n",
      "[Parallel(n_jobs=-1)]: Done 24144 tasks      | elapsed:  5.8min\n",
      "[Parallel(n_jobs=-1)]: Done 28744 tasks      | elapsed:  6.9min\n",
      "[Parallel(n_jobs=-1)]: Done 33744 tasks      | elapsed:  8.1min\n",
      "[Parallel(n_jobs=-1)]: Done 39144 tasks      | elapsed:  9.4min\n",
      "[Parallel(n_jobs=-1)]: Done 44944 tasks      | elapsed: 10.7min\n",
      "[Parallel(n_jobs=-1)]: Done 51144 tasks      | elapsed: 12.1min\n",
      "[Parallel(n_jobs=-1)]: Done 57744 tasks      | elapsed: 13.6min\n",
      "[Parallel(n_jobs=-1)]: Done 64744 tasks      | elapsed: 15.2min\n",
      "[Parallel(n_jobs=-1)]: Done 72144 tasks      | elapsed: 16.8min\n",
      "[Parallel(n_jobs=-1)]: Done 79944 tasks      | elapsed: 18.5min\n",
      "[Parallel(n_jobs=-1)]: Done 88144 tasks      | elapsed: 20.4min\n",
      "[Parallel(n_jobs=-1)]: Done 96744 tasks      | elapsed: 22.3min\n",
      "[Parallel(n_jobs=-1)]: Done 105744 tasks      | elapsed: 24.3min\n",
      "[Parallel(n_jobs=-1)]: Done 115144 tasks      | elapsed: 26.4min\n",
      "[Parallel(n_jobs=-1)]: Done 124944 tasks      | elapsed: 28.7min\n",
      "[Parallel(n_jobs=-1)]: Done 135144 tasks      | elapsed: 31.0min\n",
      "[Parallel(n_jobs=-1)]: Done 145744 tasks      | elapsed: 33.4min\n",
      "[Parallel(n_jobs=-1)]: Done 156744 tasks      | elapsed: 35.8min\n",
      "[Parallel(n_jobs=-1)]: Done 168144 tasks      | elapsed: 38.3min\n",
      "[Parallel(n_jobs=-1)]: Done 179944 tasks      | elapsed: 41.0min\n",
      "[Parallel(n_jobs=-1)]: Done 192144 tasks      | elapsed: 43.7min\n",
      "[Parallel(n_jobs=-1)]: Done 204744 tasks      | elapsed: 46.5min\n",
      "[Parallel(n_jobs=-1)]: Done 217744 tasks      | elapsed: 49.4min\n",
      "[Parallel(n_jobs=-1)]: Done 231144 tasks      | elapsed: 52.3min\n",
      "[Parallel(n_jobs=-1)]: Done 244944 tasks      | elapsed: 55.4min\n",
      "[Parallel(n_jobs=-1)]: Done 259144 tasks      | elapsed: 58.6min\n",
      "[Parallel(n_jobs=-1)]: Done 273744 tasks      | elapsed: 61.8min\n",
      "[Parallel(n_jobs=-1)]: Done 288744 tasks      | elapsed: 65.1min\n",
      "[Parallel(n_jobs=-1)]: Done 304144 tasks      | elapsed: 68.5min\n",
      "[Parallel(n_jobs=-1)]: Done 319944 tasks      | elapsed: 72.0min\n",
      "[Parallel(n_jobs=-1)]: Done 336144 tasks      | elapsed: 75.6min\n",
      "[Parallel(n_jobs=-1)]: Done 352744 tasks      | elapsed: 79.3min\n",
      "[Parallel(n_jobs=-1)]: Done 369744 tasks      | elapsed: 83.1min\n",
      "[Parallel(n_jobs=-1)]: Done 387144 tasks      | elapsed: 87.0min\n",
      "[Parallel(n_jobs=-1)]: Done 404944 tasks      | elapsed: 91.0min\n",
      "[Parallel(n_jobs=-1)]: Done 423144 tasks      | elapsed: 95.0min\n",
      "[Parallel(n_jobs=-1)]: Done 440000 out of 440000 | elapsed: 98.7min finished\n"
     ]
    },
    {
     "name": "stdout",
     "output_type": "stream",
     "text": [
      "LogisticRegression\n",
      "{'clf__penalty': 'l2', 'clf__C': 0.0001, 'clf__random_state': 0, 'kbf__k': 10}\n",
      "0.356323015873\n",
      "Pipeline(steps=[('kbf', SelectKBest(k=10, score_func=<function f_classif at 0x7f12d1de4758>)), ('scaler', StandardScaler(copy=True, with_mean=True, with_std=True)), ('clf', LogisticRegression(C=0.0001, class_weight=None, dual=False,\n",
      "          fit_intercept=True, intercept_scaling=1, max_iter=100,\n",
      "          multi_class='ovr', n_jobs=1, penalty='l2', random_state=0,\n",
      "          solver='liblinear', tol=0.0001, verbose=0, warm_start=False))])\n",
      "\tAccuracy: 0.82307\tPrecision: 0.35569\tRecall: 0.40300\tF1: 0.37787\tF2: 0.39256\n",
      "\tTotal predictions: 15000\tTrue positives:  806\tFalse positives: 1460\tFalse negatives: 1194\tTrue negatives: 11540\n",
      "\n",
      "None\n"
     ]
    }
   ],
   "source": [
    "parameters = {'kbf__k':range(1,21),\n",
    "              'clf__penalty': ['l1', 'l2'], \n",
    "              'clf__C': np.logspace(-10, 0, 11), \n",
    "              'clf__random_state': [0]} \n",
    "\n",
    "tune_parameters(lr_clf_scaled, parameters)"
   ]
  },
  {
   "cell_type": "markdown",
   "metadata": {},
   "source": [
    "## Naive Bayes"
   ]
  },
  {
   "cell_type": "code",
   "execution_count": 157,
   "metadata": {
    "collapsed": false
   },
   "outputs": [
    {
     "name": "stdout",
     "output_type": "stream",
     "text": [
      "Naive Bayer Classifier : \n",
      "GaussianNB(priors=None)\n",
      "\tAccuracy: 0.73900\tPrecision: 0.22604\tRecall: 0.39500\tF1: 0.28753\tF2: 0.34363\n",
      "\tTotal predictions: 15000\tTrue positives:  790\tFalse positives: 2705\tFalse negatives: 1210\tTrue negatives: 10295\n",
      "\n",
      "None\n",
      "Naive Bayer Classifier_standardized : \n",
      "Pipeline(steps=[('kbf', SelectKBest(k=10, score_func=<function f_classif at 0x7f12d1de4758>)), ('clf', GaussianNB(priors=None))])\n",
      "\tAccuracy: 0.84793\tPrecision: 0.40602\tRecall: 0.30350\tF1: 0.34735\tF2: 0.31964\n",
      "\tTotal predictions: 15000\tTrue positives:  607\tFalse positives:  888\tFalse negatives: 1393\tTrue negatives: 12112\n",
      "\n",
      "None\n"
     ]
    }
   ],
   "source": [
    "nb_clf = GaussianNB()\n",
    "print \"Naive Bayer Classifier : \\n\", test_classifier(nb_clf, my_dataset, features_list_expanded)\n",
    "\n",
    "nb_clf_pl = Pipeline(steps=[('kbf', SelectKBest()),\n",
    "                                ('clf', GaussianNB())])\n",
    "print \"Naive Bayer Classifier_standardized : \\n\", test_classifier(nb_clf_pl, my_dataset, features_list_expanded)"
   ]
  },
  {
   "cell_type": "markdown",
   "metadata": {},
   "source": [
    "## SVM "
   ]
  },
  {
   "cell_type": "code",
   "execution_count": 75,
   "metadata": {
    "collapsed": false
   },
   "outputs": [
    {
     "name": "stdout",
     "output_type": "stream",
     "text": [
      "SVM Classifier : \n",
      "Got a divide by zero when trying out: SVC(C=1.0, cache_size=200, class_weight=None, coef0=0.0,\n",
      "  decision_function_shape=None, degree=3, gamma='auto', kernel='rbf',\n",
      "  max_iter=-1, probability=False, random_state=None, shrinking=True,\n",
      "  tol=0.001, verbose=False)\n",
      "Precision or recall may be undefined due to a lack of true positive predicitons.\n",
      "None\n",
      "SVM Classifier_standardized : \n",
      "Got a divide by zero when trying out: Pipeline(steps=[('kbf', SelectKBest(k=10, score_func=<function f_classif at 0x7f12d1de4758>)), ('scaler', StandardScaler(copy=True, with_mean=True, with_std=True)), ('clf', SVC(C=1.0, cache_size=200, class_weight=None, coef0=0.0,\n",
      "  decision_function_shape=None, degree=3, gamma='auto', kernel='rbf',\n",
      "  max_iter=-1, probability=False, random_state=None, shrinking=True,\n",
      "  tol=0.001, verbose=False))])\n",
      "Precision or recall may be undefined due to a lack of true positive predicitons.\n",
      "None\n"
     ]
    }
   ],
   "source": [
    "# SVM\n",
    "s_clf = SVC()\n",
    "print \"SVM Classifier : \\n\", test_classifier(s_clf, my_dataset, features_list_expanded)\n",
    "\n",
    "s_clf_scaled = Pipeline(steps=[('kbf', SelectKBest()),\n",
    "                               ('scaler', StandardScaler()), \n",
    "                               ('clf', SVC())])\n",
    "print \"SVM Classifier_standardized : \\n\", test_classifier(s_clf_scaled, my_dataset, features_list_expanded)"
   ]
  },
  {
   "cell_type": "code",
   "execution_count": 103,
   "metadata": {
    "collapsed": false
   },
   "outputs": [
    {
     "name": "stdout",
     "output_type": "stream",
     "text": [
      "Fitting 1000 folds for each of 2400 candidates, totalling 2400000 fits\n"
     ]
    },
    {
     "name": "stderr",
     "output_type": "stream",
     "text": [
      "/home/dong/anaconda2/lib/python2.7/site-packages/sklearn/metrics/classification.py:1113: UndefinedMetricWarning: F-score is ill-defined and being set to 0.0 due to no predicted samples.\n",
      "  'precision', 'predicted', average, warn_for)\n",
      "/home/dong/anaconda2/lib/python2.7/site-packages/sklearn/metrics/classification.py:1113: UndefinedMetricWarning: F-score is ill-defined and being set to 0.0 due to no predicted samples.\n",
      "  'precision', 'predicted', average, warn_for)\n",
      "/home/dong/anaconda2/lib/python2.7/site-packages/sklearn/metrics/classification.py:1113: UndefinedMetricWarning: F-score is ill-defined and being set to 0.0 due to no predicted samples.\n",
      "  'precision', 'predicted', average, warn_for)\n",
      "/home/dong/anaconda2/lib/python2.7/site-packages/sklearn/metrics/classification.py:1113: UndefinedMetricWarning: F-score is ill-defined and being set to 0.0 due to no predicted samples.\n",
      "  'precision', 'predicted', average, warn_for)\n",
      "[Parallel(n_jobs=-1)]: Done 142 tasks      | elapsed:    2.0s\n",
      "[Parallel(n_jobs=-1)]: Done 742 tasks      | elapsed:   11.6s\n",
      "[Parallel(n_jobs=-1)]: Done 1742 tasks      | elapsed:   25.9s\n",
      "[Parallel(n_jobs=-1)]: Done 3142 tasks      | elapsed:   45.8s\n",
      "[Parallel(n_jobs=-1)]: Done 4942 tasks      | elapsed:  1.2min\n",
      "[Parallel(n_jobs=-1)]: Done 7142 tasks      | elapsed:  1.7min\n",
      "[Parallel(n_jobs=-1)]: Done 9742 tasks      | elapsed:  2.3min\n",
      "[Parallel(n_jobs=-1)]: Done 12742 tasks      | elapsed:  3.1min\n",
      "[Parallel(n_jobs=-1)]: Done 16142 tasks      | elapsed:  3.9min\n",
      "[Parallel(n_jobs=-1)]: Done 19942 tasks      | elapsed:  4.8min\n",
      "[Parallel(n_jobs=-1)]: Done 24142 tasks      | elapsed:  5.8min\n",
      "[Parallel(n_jobs=-1)]: Done 28742 tasks      | elapsed:  6.9min\n",
      "[Parallel(n_jobs=-1)]: Done 33742 tasks      | elapsed:  8.2min\n",
      "[Parallel(n_jobs=-1)]: Done 39142 tasks      | elapsed:  9.4min\n",
      "[Parallel(n_jobs=-1)]: Done 44942 tasks      | elapsed: 10.9min\n",
      "[Parallel(n_jobs=-1)]: Done 51142 tasks      | elapsed: 12.4min\n",
      "[Parallel(n_jobs=-1)]: Done 57742 tasks      | elapsed: 14.0min\n",
      "[Parallel(n_jobs=-1)]: Done 64742 tasks      | elapsed: 15.6min\n",
      "[Parallel(n_jobs=-1)]: Done 72142 tasks      | elapsed: 17.4min\n",
      "[Parallel(n_jobs=-1)]: Done 79942 tasks      | elapsed: 19.3min\n",
      "[Parallel(n_jobs=-1)]: Done 88142 tasks      | elapsed: 21.3min\n",
      "[Parallel(n_jobs=-1)]: Done 96742 tasks      | elapsed: 23.4min\n",
      "[Parallel(n_jobs=-1)]: Done 105742 tasks      | elapsed: 25.6min\n",
      "[Parallel(n_jobs=-1)]: Done 115142 tasks      | elapsed: 27.8min\n",
      "[Parallel(n_jobs=-1)]: Done 124942 tasks      | elapsed: 30.2min\n",
      "[Parallel(n_jobs=-1)]: Done 135142 tasks      | elapsed: 32.6min\n",
      "[Parallel(n_jobs=-1)]: Done 145742 tasks      | elapsed: 35.2min\n",
      "[Parallel(n_jobs=-1)]: Done 156742 tasks      | elapsed: 37.8min\n",
      "[Parallel(n_jobs=-1)]: Done 168142 tasks      | elapsed: 40.6min\n",
      "[Parallel(n_jobs=-1)]: Done 179942 tasks      | elapsed: 43.5min\n",
      "[Parallel(n_jobs=-1)]: Done 192142 tasks      | elapsed: 46.4min\n",
      "[Parallel(n_jobs=-1)]: Done 204742 tasks      | elapsed: 49.4min\n",
      "[Parallel(n_jobs=-1)]: Done 217742 tasks      | elapsed: 52.6min\n",
      "[Parallel(n_jobs=-1)]: Done 231142 tasks      | elapsed: 55.8min\n",
      "[Parallel(n_jobs=-1)]: Done 244942 tasks      | elapsed: 59.1min\n",
      "[Parallel(n_jobs=-1)]: Done 259142 tasks      | elapsed: 62.6min\n",
      "[Parallel(n_jobs=-1)]: Done 273742 tasks      | elapsed: 66.1min\n",
      "[Parallel(n_jobs=-1)]: Done 288742 tasks      | elapsed: 69.7min\n",
      "[Parallel(n_jobs=-1)]: Done 304142 tasks      | elapsed: 73.5min\n",
      "[Parallel(n_jobs=-1)]: Done 319942 tasks      | elapsed: 77.3min\n",
      "[Parallel(n_jobs=-1)]: Done 336142 tasks      | elapsed: 81.2min\n",
      "[Parallel(n_jobs=-1)]: Done 352742 tasks      | elapsed: 85.2min\n",
      "[Parallel(n_jobs=-1)]: Done 369742 tasks      | elapsed: 89.3min\n",
      "[Parallel(n_jobs=-1)]: Done 387142 tasks      | elapsed: 93.4min\n",
      "[Parallel(n_jobs=-1)]: Done 404942 tasks      | elapsed: 97.7min\n",
      "[Parallel(n_jobs=-1)]: Done 423142 tasks      | elapsed: 102.1min\n",
      "[Parallel(n_jobs=-1)]: Done 441742 tasks      | elapsed: 106.6min\n",
      "[Parallel(n_jobs=-1)]: Done 460742 tasks      | elapsed: 111.2min\n",
      "[Parallel(n_jobs=-1)]: Done 480142 tasks      | elapsed: 115.8min\n",
      "[Parallel(n_jobs=-1)]: Done 499942 tasks      | elapsed: 120.6min\n",
      "[Parallel(n_jobs=-1)]: Done 520142 tasks      | elapsed: 125.5min\n",
      "[Parallel(n_jobs=-1)]: Done 540742 tasks      | elapsed: 130.4min\n",
      "[Parallel(n_jobs=-1)]: Done 561742 tasks      | elapsed: 135.5min\n",
      "[Parallel(n_jobs=-1)]: Done 583142 tasks      | elapsed: 140.6min\n",
      "[Parallel(n_jobs=-1)]: Done 604942 tasks      | elapsed: 145.8min\n",
      "[Parallel(n_jobs=-1)]: Done 627142 tasks      | elapsed: 151.2min\n",
      "[Parallel(n_jobs=-1)]: Done 649742 tasks      | elapsed: 156.6min\n",
      "[Parallel(n_jobs=-1)]: Done 672742 tasks      | elapsed: 162.0min\n",
      "[Parallel(n_jobs=-1)]: Done 696142 tasks      | elapsed: 167.6min\n",
      "[Parallel(n_jobs=-1)]: Done 719942 tasks      | elapsed: 173.3min\n",
      "[Parallel(n_jobs=-1)]: Done 744142 tasks      | elapsed: 179.1min\n",
      "[Parallel(n_jobs=-1)]: Done 768742 tasks      | elapsed: 184.9min\n",
      "[Parallel(n_jobs=-1)]: Done 793742 tasks      | elapsed: 190.9min\n",
      "[Parallel(n_jobs=-1)]: Done 819142 tasks      | elapsed: 196.9min\n",
      "[Parallel(n_jobs=-1)]: Done 844942 tasks      | elapsed: 203.0min\n",
      "[Parallel(n_jobs=-1)]: Done 871142 tasks      | elapsed: 209.2min\n",
      "[Parallel(n_jobs=-1)]: Done 897742 tasks      | elapsed: 215.5min\n",
      "[Parallel(n_jobs=-1)]: Done 924742 tasks      | elapsed: 221.9min\n",
      "[Parallel(n_jobs=-1)]: Done 952142 tasks      | elapsed: 228.4min\n",
      "[Parallel(n_jobs=-1)]: Done 979942 tasks      | elapsed: 235.1min\n",
      "[Parallel(n_jobs=-1)]: Done 1008142 tasks      | elapsed: 241.8min\n",
      "[Parallel(n_jobs=-1)]: Done 1036742 tasks      | elapsed: 248.7min\n",
      "[Parallel(n_jobs=-1)]: Done 1065742 tasks      | elapsed: 255.6min\n",
      "[Parallel(n_jobs=-1)]: Done 1095142 tasks      | elapsed: 262.6min\n",
      "[Parallel(n_jobs=-1)]: Done 1124942 tasks      | elapsed: 269.7min\n",
      "[Parallel(n_jobs=-1)]: Done 1155142 tasks      | elapsed: 276.8min\n",
      "[Parallel(n_jobs=-1)]: Done 1185742 tasks      | elapsed: 284.1min\n",
      "[Parallel(n_jobs=-1)]: Done 1216742 tasks      | elapsed: 291.4min\n",
      "[Parallel(n_jobs=-1)]: Done 1248142 tasks      | elapsed: 298.9min\n",
      "[Parallel(n_jobs=-1)]: Done 1279942 tasks      | elapsed: 306.4min\n",
      "[Parallel(n_jobs=-1)]: Done 1312142 tasks      | elapsed: 314.0min\n",
      "[Parallel(n_jobs=-1)]: Done 1344742 tasks      | elapsed: 321.7min\n",
      "[Parallel(n_jobs=-1)]: Done 1377742 tasks      | elapsed: 329.5min\n",
      "[Parallel(n_jobs=-1)]: Done 1411142 tasks      | elapsed: 337.4min\n",
      "[Parallel(n_jobs=-1)]: Done 1444942 tasks      | elapsed: 345.8min\n",
      "[Parallel(n_jobs=-1)]: Done 1479142 tasks      | elapsed: 354.2min\n",
      "[Parallel(n_jobs=-1)]: Done 1513742 tasks      | elapsed: 362.6min\n",
      "[Parallel(n_jobs=-1)]: Done 1548742 tasks      | elapsed: 371.1min\n",
      "[Parallel(n_jobs=-1)]: Done 1584142 tasks      | elapsed: 379.5min\n",
      "[Parallel(n_jobs=-1)]: Done 1619942 tasks      | elapsed: 388.0min\n",
      "[Parallel(n_jobs=-1)]: Done 1656142 tasks      | elapsed: 396.6min\n",
      "[Parallel(n_jobs=-1)]: Done 1692742 tasks      | elapsed: 405.3min\n",
      "[Parallel(n_jobs=-1)]: Done 1744106 tasks      | elapsed: 416.2min\n",
      "[Parallel(n_jobs=-1)]: Done 1818906 tasks      | elapsed: 430.3min\n",
      "[Parallel(n_jobs=-1)]: Done 1894506 tasks      | elapsed: 444.7min\n",
      "[Parallel(n_jobs=-1)]: Done 1970906 tasks      | elapsed: 459.3min\n",
      "[Parallel(n_jobs=-1)]: Done 2048106 tasks      | elapsed: 474.0min\n",
      "[Parallel(n_jobs=-1)]: Done 2126106 tasks      | elapsed: 488.9min\n",
      "[Parallel(n_jobs=-1)]: Done 2204906 tasks      | elapsed: 504.1min\n",
      "[Parallel(n_jobs=-1)]: Done 2284506 tasks      | elapsed: 519.7min\n",
      "[Parallel(n_jobs=-1)]: Done 2364906 tasks      | elapsed: 535.4min\n",
      "[Parallel(n_jobs=-1)]: Done 2400000 out of 2400000 | elapsed: 542.3min finished\n"
     ]
    },
    {
     "name": "stdout",
     "output_type": "stream",
     "text": [
      "SVC\n",
      "{'clf__gamma': 0.001, 'clf__C': 1000, 'kbf__k': 20, 'clf__tol': 0.0001, 'clf__class_weight': 'balanced', 'clf__kernel': 'rbf'}\n",
      "0.403255555556\n",
      "Pipeline(steps=[('kbf', SelectKBest(k=20, score_func=<function f_classif at 0x7f12d1de4758>)), ('scaler', StandardScaler(copy=True, with_mean=True, with_std=True)), ('clf', SVC(C=1000, cache_size=200, class_weight='balanced', coef0=0.0,\n",
      "  decision_function_shape=None, degree=3, gamma=0.001, kernel='rbf',\n",
      "  max_iter=-1, probability=False, random_state=None, shrinking=True,\n",
      "  tol=0.0001, verbose=False))])\n",
      "\tAccuracy: 0.78980\tPrecision: 0.32908\tRecall: 0.55500\tF1: 0.41318\tF2: 0.48800\n",
      "\tTotal predictions: 15000\tTrue positives: 1110\tFalse positives: 2263\tFalse negatives:  890\tTrue negatives: 10737\n",
      "\n",
      "None\n"
     ]
    }
   ],
   "source": [
    "parameters = {'kbf__k':range(1,21),\n",
    "              'clf__kernel':['rbf'], \n",
    "              'clf__C':[0.1,1,10,100,1000], \n",
    "              'clf__gamma': np.logspace(-5,0,6),\n",
    "              'clf__tol': [1e-1, 1e-2, 1e-4, 1e-5], \n",
    "              'clf__class_weight': ['balanced']}  \n",
    "    \n",
    "tune_parameters(s_clf_scaled, parameters)"
   ]
  },
  {
   "cell_type": "markdown",
   "metadata": {},
   "source": [
    "## Decision Tree"
   ]
  },
  {
   "cell_type": "code",
   "execution_count": 99,
   "metadata": {
    "collapsed": false
   },
   "outputs": [
    {
     "name": "stdout",
     "output_type": "stream",
     "text": [
      "Decision Tree Classifier : \n",
      "DecisionTreeClassifier(class_weight=None, criterion='gini', max_depth=None,\n",
      "            max_features=None, max_leaf_nodes=None,\n",
      "            min_impurity_split=1e-07, min_samples_leaf=1,\n",
      "            min_samples_split=2, min_weight_fraction_leaf=0.0,\n",
      "            presort=False, random_state=None, splitter='best')\n",
      "\tAccuracy: 0.79487\tPrecision: 0.22872\tRecall: 0.22700\tF1: 0.22785\tF2: 0.22734\n",
      "\tTotal predictions: 15000\tTrue positives:  454\tFalse positives: 1531\tFalse negatives: 1546\tTrue negatives: 11469\n",
      "\n",
      "None\n",
      "Decision Tree Classifier_standardized : \n",
      "Pipeline(steps=[('kbf', SelectKBest(k=10, score_func=<function f_classif at 0x7f12d1de4758>)), ('clf', DecisionTreeClassifier(class_weight=None, criterion='gini', max_depth=None,\n",
      "            max_features=None, max_leaf_nodes=None,\n",
      "            min_impurity_split=1e-07, min_samples_leaf=1,\n",
      "            min_samples_split=2, min_weight_fraction_leaf=0.0,\n",
      "            presort=False, random_state=None, splitter='best'))])\n",
      "\tAccuracy: 0.80447\tPrecision: 0.26522\tRecall: 0.26350\tF1: 0.26436\tF2: 0.26384\n",
      "\tTotal predictions: 15000\tTrue positives:  527\tFalse positives: 1460\tFalse negatives: 1473\tTrue negatives: 11540\n",
      "\n",
      "None\n"
     ]
    }
   ],
   "source": [
    "dt_clf = DecisionTreeClassifier()\n",
    "print \"Decision Tree Classifier : \\n\", test_classifier(dt_clf, my_dataset, features_list_expanded)\n",
    "\n",
    "dt_clf_pl = Pipeline(steps=[('kbf', SelectKBest()),\n",
    "                            ('clf', DecisionTreeClassifier())])\n",
    "print \"Decision Tree Classifier_standardized : \\n\", test_classifier(dt_clf_pl, my_dataset, features_list_expanded)"
   ]
  },
  {
   "cell_type": "code",
   "execution_count": 104,
   "metadata": {
    "collapsed": false
   },
   "outputs": [
    {
     "name": "stdout",
     "output_type": "stream",
     "text": [
      "Fitting 1000 folds for each of 1280 candidates, totalling 1280000 fits\n"
     ]
    },
    {
     "name": "stderr",
     "output_type": "stream",
     "text": [
      "/home/dong/anaconda2/lib/python2.7/site-packages/sklearn/metrics/classification.py:1113: UndefinedMetricWarning: F-score is ill-defined and being set to 0.0 due to no predicted samples.\n",
      "  'precision', 'predicted', average, warn_for)\n",
      "/home/dong/anaconda2/lib/python2.7/site-packages/sklearn/metrics/classification.py:1113: UndefinedMetricWarning: F-score is ill-defined and being set to 0.0 due to no predicted samples.\n",
      "  'precision', 'predicted', average, warn_for)\n",
      "/home/dong/anaconda2/lib/python2.7/site-packages/sklearn/metrics/classification.py:1113: UndefinedMetricWarning: F-score is ill-defined and being set to 0.0 due to no predicted samples.\n",
      "  'precision', 'predicted', average, warn_for)\n",
      "/home/dong/anaconda2/lib/python2.7/site-packages/sklearn/metrics/classification.py:1113: UndefinedMetricWarning: F-score is ill-defined and being set to 0.0 due to no predicted samples.\n",
      "  'precision', 'predicted', average, warn_for)\n",
      "[Parallel(n_jobs=-1)]: Done  42 tasks      | elapsed:    2.1s\n",
      "[Parallel(n_jobs=-1)]: Done 255 tasks      | elapsed:    7.2s\n",
      "[Parallel(n_jobs=-1)]: Done 1249 tasks      | elapsed:   18.8s\n",
      "[Parallel(n_jobs=-1)]: Done 2649 tasks      | elapsed:   36.4s\n",
      "[Parallel(n_jobs=-1)]: Done 4449 tasks      | elapsed:   58.1s\n",
      "[Parallel(n_jobs=-1)]: Done 6649 tasks      | elapsed:  1.4min\n",
      "[Parallel(n_jobs=-1)]: Done 9249 tasks      | elapsed:  1.9min\n",
      "[Parallel(n_jobs=-1)]: Done 12249 tasks      | elapsed:  2.5min\n",
      "[Parallel(n_jobs=-1)]: Done 18089 tasks      | elapsed:  3.5min\n",
      "[Parallel(n_jobs=-1)]: Done 25689 tasks      | elapsed:  4.7min\n",
      "[Parallel(n_jobs=-1)]: Done 34089 tasks      | elapsed:  6.0min\n",
      "[Parallel(n_jobs=-1)]: Done 43289 tasks      | elapsed:  7.5min\n",
      "[Parallel(n_jobs=-1)]: Done 53289 tasks      | elapsed:  9.1min\n",
      "[Parallel(n_jobs=-1)]: Done 64089 tasks      | elapsed: 10.8min\n",
      "[Parallel(n_jobs=-1)]: Done 75689 tasks      | elapsed: 12.7min\n",
      "[Parallel(n_jobs=-1)]: Done 88089 tasks      | elapsed: 14.6min\n",
      "[Parallel(n_jobs=-1)]: Done 101289 tasks      | elapsed: 16.7min\n",
      "[Parallel(n_jobs=-1)]: Done 115289 tasks      | elapsed: 18.9min\n",
      "[Parallel(n_jobs=-1)]: Done 130089 tasks      | elapsed: 21.2min\n",
      "[Parallel(n_jobs=-1)]: Done 145689 tasks      | elapsed: 23.7min\n",
      "[Parallel(n_jobs=-1)]: Done 162089 tasks      | elapsed: 26.3min\n",
      "[Parallel(n_jobs=-1)]: Done 179289 tasks      | elapsed: 29.0min\n",
      "[Parallel(n_jobs=-1)]: Done 197289 tasks      | elapsed: 31.8min\n",
      "[Parallel(n_jobs=-1)]: Done 216089 tasks      | elapsed: 34.8min\n",
      "[Parallel(n_jobs=-1)]: Done 235689 tasks      | elapsed: 37.9min\n",
      "[Parallel(n_jobs=-1)]: Done 256089 tasks      | elapsed: 41.1min\n",
      "[Parallel(n_jobs=-1)]: Done 277289 tasks      | elapsed: 44.4min\n",
      "[Parallel(n_jobs=-1)]: Done 299289 tasks      | elapsed: 47.9min\n",
      "[Parallel(n_jobs=-1)]: Done 322089 tasks      | elapsed: 51.5min\n",
      "[Parallel(n_jobs=-1)]: Done 345689 tasks      | elapsed: 55.2min\n",
      "[Parallel(n_jobs=-1)]: Done 370089 tasks      | elapsed: 59.1min\n",
      "[Parallel(n_jobs=-1)]: Done 395289 tasks      | elapsed: 63.1min\n",
      "[Parallel(n_jobs=-1)]: Done 421289 tasks      | elapsed: 67.2min\n",
      "[Parallel(n_jobs=-1)]: Done 448089 tasks      | elapsed: 71.4min\n",
      "[Parallel(n_jobs=-1)]: Done 475689 tasks      | elapsed: 75.7min\n",
      "[Parallel(n_jobs=-1)]: Done 504089 tasks      | elapsed: 80.2min\n",
      "[Parallel(n_jobs=-1)]: Done 533289 tasks      | elapsed: 84.9min\n",
      "[Parallel(n_jobs=-1)]: Done 563289 tasks      | elapsed: 89.6min\n",
      "[Parallel(n_jobs=-1)]: Done 594089 tasks      | elapsed: 94.4min\n",
      "[Parallel(n_jobs=-1)]: Done 625689 tasks      | elapsed: 99.4min\n",
      "[Parallel(n_jobs=-1)]: Done 658089 tasks      | elapsed: 104.5min\n",
      "[Parallel(n_jobs=-1)]: Done 691289 tasks      | elapsed: 109.6min\n",
      "[Parallel(n_jobs=-1)]: Done 725289 tasks      | elapsed: 114.9min\n",
      "[Parallel(n_jobs=-1)]: Done 760089 tasks      | elapsed: 120.4min\n",
      "[Parallel(n_jobs=-1)]: Done 795689 tasks      | elapsed: 126.0min\n",
      "[Parallel(n_jobs=-1)]: Done 832089 tasks      | elapsed: 131.7min\n",
      "[Parallel(n_jobs=-1)]: Done 869289 tasks      | elapsed: 137.5min\n",
      "[Parallel(n_jobs=-1)]: Done 907289 tasks      | elapsed: 143.4min\n",
      "[Parallel(n_jobs=-1)]: Done 946089 tasks      | elapsed: 149.5min\n",
      "[Parallel(n_jobs=-1)]: Done 985689 tasks      | elapsed: 155.7min\n",
      "[Parallel(n_jobs=-1)]: Done 1026089 tasks      | elapsed: 162.0min\n",
      "[Parallel(n_jobs=-1)]: Done 1067289 tasks      | elapsed: 168.6min\n",
      "[Parallel(n_jobs=-1)]: Done 1109289 tasks      | elapsed: 175.1min\n",
      "[Parallel(n_jobs=-1)]: Done 1152089 tasks      | elapsed: 181.8min\n",
      "[Parallel(n_jobs=-1)]: Done 1195689 tasks      | elapsed: 188.7min\n",
      "[Parallel(n_jobs=-1)]: Done 1240089 tasks      | elapsed: 195.6min\n",
      "[Parallel(n_jobs=-1)]: Done 1280000 out of 1280000 | elapsed: 201.8min finished\n"
     ]
    },
    {
     "name": "stdout",
     "output_type": "stream",
     "text": [
      "DecisionTreeClassifier\n",
      "{'clf__criterion': 'entropy', 'clf__max_depth': None, 'clf__min_samples_leaf': 12, 'clf__random_state': 0, 'kbf__k': 15, 'clf__min_samples_split': 2}\n",
      "0.297258730159\n",
      "Pipeline(steps=[('kbf', SelectKBest(k=15, score_func=<function f_classif at 0x7f12d1de4758>)), ('clf', DecisionTreeClassifier(class_weight=None, criterion='entropy', max_depth=None,\n",
      "            max_features=None, max_leaf_nodes=None,\n",
      "            min_impurity_split=1e-07, min_samples_leaf=12,\n",
      "            min_samples_split=2, min_weight_fraction_leaf=0.0,\n",
      "            presort=False, random_state=0, splitter='best'))])\n",
      "\tAccuracy: 0.82700\tPrecision: 0.33910\tRecall: 0.31350\tF1: 0.32580\tF2: 0.31831\n",
      "\tTotal predictions: 15000\tTrue positives:  627\tFalse positives: 1222\tFalse negatives: 1373\tTrue negatives: 11778\n",
      "\n",
      "None\n"
     ]
    }
   ],
   "source": [
    "parameters = {'kbf__k':range(1,21),\n",
    "              \"clf__min_samples_leaf\": [2, 6, 10, 12],\n",
    "              \"clf__min_samples_split\": [2, 6, 10, 12],\n",
    "              \"clf__criterion\": [\"entropy\", \"gini\"],\n",
    "              \"clf__max_depth\": [None, 5],\n",
    "              \"clf__random_state\": [0]}\n",
    "\n",
    "tune_parameters(dt_clf_pl, parameters)"
   ]
  },
  {
   "cell_type": "markdown",
   "metadata": {},
   "source": [
    "## Random Forest"
   ]
  },
  {
   "cell_type": "code",
   "execution_count": 101,
   "metadata": {
    "collapsed": false
   },
   "outputs": [
    {
     "name": "stdout",
     "output_type": "stream",
     "text": [
      "Random Forest Classifier : \n",
      "RandomForestClassifier(bootstrap=True, class_weight=None, criterion='gini',\n",
      "            max_depth=None, max_features='auto', max_leaf_nodes=None,\n",
      "            min_impurity_split=1e-07, min_samples_leaf=1,\n",
      "            min_samples_split=2, min_weight_fraction_leaf=0.0,\n",
      "            n_estimators=10, n_jobs=1, oob_score=False, random_state=None,\n",
      "            verbose=0, warm_start=False)\n",
      "\tAccuracy: 0.85487\tPrecision: 0.35930\tRecall: 0.11300\tF1: 0.17193\tF2: 0.13095\n",
      "\tTotal predictions: 15000\tTrue positives:  226\tFalse positives:  403\tFalse negatives: 1774\tTrue negatives: 12597\n",
      "\n",
      "None\n",
      "Random Forest Classifier_standardized : \n",
      "Pipeline(steps=[('kbf', SelectKBest(k=10, score_func=<function f_classif at 0x7f12d1de4758>)), ('clf', RandomForestClassifier(bootstrap=True, class_weight=None, criterion='gini',\n",
      "            max_depth=None, max_features='auto', max_leaf_nodes=None,\n",
      "            min_impurity_split=1e-07, min_samples_leaf=1,\n",
      "            min_samples_split=2, min_weight_fraction_leaf=0.0,\n",
      "            n_estimators=10, n_jobs=1, oob_score=False, random_state=None,\n",
      "            verbose=0, warm_start=False))])\n",
      "\tAccuracy: 0.85513\tPrecision: 0.38295\tRecall: 0.14150\tF1: 0.20664\tF2: 0.16192\n",
      "\tTotal predictions: 15000\tTrue positives:  283\tFalse positives:  456\tFalse negatives: 1717\tTrue negatives: 12544\n",
      "\n",
      "None\n"
     ]
    }
   ],
   "source": [
    "rf_clf = RandomForestClassifier()\n",
    "print \"Random Forest Classifier : \\n\", test_classifier(rf_clf, my_dataset, features_list_expanded)\n",
    "\n",
    "rf_clf_pl = Pipeline(steps=[('kbf', SelectKBest()),\n",
    "                            ('clf', RandomForestClassifier())])\n",
    "print \"Random Forest Classifier_standardized : \\n\", test_classifier(rf_clf_pl, my_dataset, features_list_expanded)"
   ]
  },
  {
   "cell_type": "code",
   "execution_count": null,
   "metadata": {
    "collapsed": false
   },
   "outputs": [],
   "source": [
    "parameters = {'kbf__k':range(1,21),\n",
    "              'clf__max_depth': [None, 5, 10],\n",
    "              'clf__n_estimators': [10, 15, 20, 25],\n",
    "              'clf__random_state': [0]}\n",
    "\n",
    "tune_parameters(rf_clf_pl, parameters)"
   ]
  },
  {
   "cell_type": "markdown",
   "metadata": {},
   "source": [
    "# Feature selection"
   ]
  },
  {
   "cell_type": "code",
   "execution_count": 184,
   "metadata": {
    "collapsed": true
   },
   "outputs": [],
   "source": [
    "lr_clf_final = Pipeline(steps=[('scaler', StandardScaler()), \n",
    "                               ('clf', LogisticRegression(penalty = 'l2', \n",
    "                                                          C = 0.0001, \n",
    "                                             random_state = 0))])"
   ]
  },
  {
   "cell_type": "code",
   "execution_count": 150,
   "metadata": {
    "collapsed": false
   },
   "outputs": [
    {
     "name": "stdout",
     "output_type": "stream",
     "text": [
      "[('exercised_stock_options', 24.815079733218194),\n",
      " ('total_stock_value', 24.182898678566879),\n",
      " ('bonus', 20.792252047181535),\n",
      " ('salary', 18.289684043404513),\n",
      " ('deferred_income', 11.458476579280369),\n",
      " ('long_term_incentive', 9.9221860131898225),\n",
      " ('restricted_stock', 9.2128106219771002),\n",
      " ('total_payments', 8.7727777300916792),\n",
      " ('shared_receipt_with_poi', 8.589420731682381),\n",
      " ('loan_advances', 7.1840556582887247),\n",
      " ('expenses', 6.0941733106389453),\n",
      " ('total_poi_percentage', 5.399370288094425),\n",
      " ('from_poi_to_this_person', 5.2434497133749582),\n",
      " ('other', 4.1874775069953749),\n",
      " ('from_this_person_to_poi', 2.3826121082276739),\n",
      " ('director_fees', 2.1263278020077054),\n",
      " ('to_messages', 1.6463411294420076),\n",
      " ('deferral_payments', 0.22461127473600989),\n",
      " ('from_messages', 0.16970094762175533),\n",
      " ('restricted_stock_deferred', 0.065499652909942141)]\n"
     ]
    }
   ],
   "source": [
    "#print features_list_added\n",
    "from sklearn.feature_selection import SelectKBest\n",
    "data = featureFormat(my_dataset, features_list_expanded)\n",
    "target, features = targetFeatureSplit(data)\n",
    "\n",
    "k_best = SelectKBest(k=10)\n",
    "k_best.fit(features, target)\n",
    "scores = k_best.scores_\n",
    "features_scores_unsorted = zip(features_list_expanded[1:], scores)\n",
    "#print features_scores_unsorted\n",
    "features_scores_sorted = list(reversed(sorted(features_scores_unsorted, key=lambda x: x[1])))\n",
    "pprint.pprint(features_scores_sorted)"
   ]
  },
  {
   "cell_type": "code",
   "execution_count": 136,
   "metadata": {
    "collapsed": true
   },
   "outputs": [],
   "source": [
    "best_features = ['exercised_stock_options', \n",
    "                 'total_stock_value',\n",
    "                 'bonus',\n",
    "                 'salary',\n",
    "                 'deferred_income', \n",
    "                 'long_term_incentive',\n",
    "                 'restricted_stock',\n",
    "                 'total_payments',\n",
    "                 'shared_receipt_with_poi',\n",
    "                 'loan_advances']\n",
    "\n",
    "selected_features_list = ['poi'] + best_features"
   ]
  },
  {
   "cell_type": "code",
   "execution_count": 153,
   "metadata": {
    "collapsed": true
   },
   "outputs": [],
   "source": [
    "from sklearn.metrics import precision_score\n",
    "from sklearn.metrics import recall_score\n",
    "from sklearn.metrics import f1_score\n",
    "\n",
    "def evaluation(clf, features_list, folds = 1000):\n",
    "    \"\"\"calculate the precision, recall and f1 of a classifier, using k-fold\"\"\"\n",
    "    data = featureFormat(my_dataset, features_list, sort_keys = True)\n",
    "    target, features = targetFeatureSplit(data)\n",
    "    precision = []\n",
    "    recall = []\n",
    "    f1 = []\n",
    "    \n",
    "    cv = StratifiedShuffleSplit(target, folds, random_state = 42)\n",
    "    \n",
    "    for train_idx, test_idx in cv: \n",
    "        features_train = []\n",
    "        features_test  = []\n",
    "        labels_train   = []\n",
    "        labels_test    = []\n",
    "        for ii in train_idx:\n",
    "            features_train.append( features[ii] )\n",
    "            labels_train.append( target[ii] )\n",
    "        for jj in test_idx:\n",
    "            features_test.append(features[jj] )\n",
    "            labels_test.append( target[jj] )\n",
    "    \n",
    "        clf.fit(features_train, labels_train)\n",
    "        predictions = clf.predict(features_test)\n",
    "        precision.append(precision_score(labels_test, predictions))\n",
    "        recall.append(recall_score(labels_test, predictions))\n",
    "        f1.append(f1_score(labels_test, predictions))\n",
    "        \n",
    "    #print \"Precision, Recall, f1\"\n",
    "    return round(np.mean(precision),4), round(np.mean(recall),4), round(np.mean(f1),4)"
   ]
  },
  {
   "cell_type": "code",
   "execution_count": 154,
   "metadata": {
    "collapsed": false
   },
   "outputs": [
    {
     "data": {
      "text/plain": [
       "(0.3769, 0.387, 0.3581)"
      ]
     },
     "execution_count": 154,
     "metadata": {},
     "output_type": "execute_result"
    }
   ],
   "source": [
    "evaluation(lr_clf_final, selected_features_list, folds = 1000)"
   ]
  },
  {
   "cell_type": "code",
   "execution_count": 196,
   "metadata": {
    "collapsed": false
   },
   "outputs": [],
   "source": [
    "# plot precision and recall for different k\n",
    "number_of_features = range(1,21)\n",
    "Precision = []\n",
    "Recall = []\n",
    "for n in range(1,21):\n",
    "    lr_clf_tuned2 = Pipeline(steps=[('kbf', SelectKBest(k = n)),\n",
    "                                   ('scaler', StandardScaler()), \n",
    "                                   ('clf', LogisticRegression(penalty = 'l2', \n",
    "                                                              C = 1e-03, \n",
    "                                                              random_state = 0))])\n",
    "    result = evaluation(lr_clf_tuned2, features_list_expanded)\n",
    "    Precision.append(result[0])\n",
    "    Recall.append(result[1])\n",
    "    #print n\n"
   ]
  },
  {
   "cell_type": "code",
   "execution_count": 197,
   "metadata": {
    "collapsed": false
   },
   "outputs": [
    {
     "data": {
      "text/plain": [
       "<matplotlib.text.Text at 0x7f12954d1710>"
      ]
     },
     "execution_count": 197,
     "metadata": {},
     "output_type": "execute_result"
    },
    {
     "data": {
      "image/png": "[encoded data removed]",
      "text/plain": [
       "<matplotlib.figure.Figure at 0x7f12cc1762d0>"
      ]
     },
     "metadata": {},
     "output_type": "display_data"
    }
   ],
   "source": [
    "ax = plt.gca()\n",
    "ax.scatter(number_of_features, Precision)\n",
    "ax.plot(number_of_features, Precision, label = \"Precision\")\n",
    "ax.scatter(number_of_features, Recall)\n",
    "ax.plot(number_of_features, Recall, label = \"Recall\")\n",
    "ax.legend()\n",
    "ax.set_xlabel('Number of features selected') \n",
    "ax.set_ylabel('Score')\n",
    "ax.set_title('Precision and recall for different number of features')"
   ]
  },
  {
   "cell_type": "markdown",
   "metadata": {},
   "source": [
    "## testing the algorithm with 10 selected features or 10 selected features + one new feature"
   ]
  },
  {
   "cell_type": "code",
   "execution_count": 155,
   "metadata": {
    "collapsed": false
   },
   "outputs": [
    {
     "name": "stdout",
     "output_type": "stream",
     "text": [
      "Pipeline(steps=[('scaler', StandardScaler(copy=True, with_mean=True, with_std=True)), ('clf', LogisticRegression(C=0.0001, class_weight=None, dual=False,\n",
      "          fit_intercept=True, intercept_scaling=1, max_iter=100,\n",
      "          multi_class='ovr', n_jobs=1, penalty='l2', random_state=0,\n",
      "          solver='liblinear', tol=0.0001, verbose=0, warm_start=False))])\n",
      "\tAccuracy: 0.83460\tPrecision: 0.38147\tRecall: 0.38700\tF1: 0.38421\tF2: 0.38588\n",
      "\tTotal predictions: 15000\tTrue positives:  774\tFalse positives: 1255\tFalse negatives: 1226\tTrue negatives: 11745\n",
      "\n"
     ]
    }
   ],
   "source": [
    "test_classifier(lr_clf_final, my_dataset, selected_features_list)"
   ]
  },
  {
   "cell_type": "code",
   "execution_count": 156,
   "metadata": {
    "collapsed": false
   },
   "outputs": [
    {
     "name": "stdout",
     "output_type": "stream",
     "text": [
      "Pipeline(steps=[('scaler', StandardScaler(copy=True, with_mean=True, with_std=True)), ('clf', LogisticRegression(C=0.0001, class_weight=None, dual=False,\n",
      "          fit_intercept=True, intercept_scaling=1, max_iter=100,\n",
      "          multi_class='ovr', n_jobs=1, penalty='l2', random_state=0,\n",
      "          solver='liblinear', tol=0.0001, verbose=0, warm_start=False))])\n",
      "\tAccuracy: 0.82613\tPrecision: 0.35243\tRecall: 0.36300\tF1: 0.35764\tF2: 0.36083\n",
      "\tTotal predictions: 15000\tTrue positives:  726\tFalse positives: 1334\tFalse negatives: 1274\tTrue negatives: 11666\n",
      "\n"
     ]
    }
   ],
   "source": [
    "test_classifier(lr_clf_final, my_dataset, selected_features_list + ['total_poi_percentage'])"
   ]
  },
  {
   "cell_type": "code",
   "execution_count": null,
   "metadata": {
    "collapsed": true
   },
   "outputs": [],
   "source": []
  }
 ],
 "metadata": {
  "kernelspec": {
   "display_name": "Python [Root]",
   "language": "python",
   "name": "Python [Root]"
  },
  "language_info": {
   "codemirror_mode": {
    "name": "ipython",
    "version": 2
   },
   "file_extension": ".py",
   "mimetype": "text/x-python",
   "name": "python",
   "nbconvert_exporter": "python",
   "pygments_lexer": "ipython2",
   "version": "2.7.12"
  }
 },
 "nbformat": 4,
 "nbformat_minor": 0
}
